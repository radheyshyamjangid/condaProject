{
 "cells": [
  {
   "cell_type": "code",
   "execution_count": 1,
   "metadata": {},
   "outputs": [
    {
     "name": "stdout",
     "output_type": "stream",
     "text": [
      "Hello World!\n"
     ]
    }
   ],
   "source": [
    "print(\"Hello World!\")"
   ]
  },
  {
   "cell_type": "markdown",
   "metadata": {},
   "source": [
    "# header\n",
    "# header\n",
    "The first level heading!\n",
    "========================\n",
    "the second level heading!\n",
    "------------------------------------\n",
    "[Udapcitys home page](www.udacity.com)\n",
    "_italc_\n",
    "*italic*\n",
    "__Bold Styling__\n",
    "**Bold Styling**\n",
    "\n",
    "\n",
    "```\n",
    "import requests\n",
    "response = requests.get('https://www.udacity.com')\n",
    "```\n",
    "\n",
    "\n",
    "    import requests\n",
    "    responces = request.get(\"https://www,google.com\")\n",
    "    \n",
    "    \n",
    "$\n",
    "y = mx+c $ \n",
    "$y2 = \\sum fx + c\n",
    "$\n",
    "$\n",
    "r = \\frac{a}{b-c}\n",
    "$\n"
   ]
  },
  {
   "cell_type": "code",
   "execution_count": 1,
   "metadata": {},
   "outputs": [
    {
     "name": "stdout",
     "output_type": "stream",
     "text": [
      "['Aril', 'Ram', 'Radhe']\n"
     ]
    }
   ],
   "source": [
    "newphews = [\"Aril\",\"Ram\",\"Radhe\"];\n",
    "print(newphews)\n"
   ]
  },
  {
   "cell_type": "code",
   "execution_count": 7,
   "metadata": {},
   "outputs": [
    {
     "data": {
      "text/plain": [
       "'Ram'"
      ]
     },
     "execution_count": 7,
     "metadata": {},
     "output_type": "execute_result"
    }
   ],
   "source": [
    "newphews[1]"
   ]
  },
  {
   "cell_type": "code",
   "execution_count": 17,
   "metadata": {},
   "outputs": [],
   "source": [
    "for i in range(3):\n",
    "    newphews[i] = newphews[i] + ' Jangid'"
   ]
  },
  {
   "cell_type": "code",
   "execution_count": 19,
   "metadata": {},
   "outputs": [
    {
     "name": "stdout",
     "output_type": "stream",
     "text": [
      "['ArilJangidJangidJangidJangid Jangid', 'RamJangidJangidJangidJangid Jangid', 'RadheJangidJangidJangidJangid Jangid']\n"
     ]
    }
   ],
   "source": [
    "print(newphews)"
   ]
  },
  {
   "cell_type": "code",
   "execution_count": 20,
   "metadata": {},
   "outputs": [
    {
     "data": {
      "text/plain": [
       "3"
      ]
     },
     "execution_count": 20,
     "metadata": {},
     "output_type": "execute_result"
    }
   ],
   "source": [
    "len(newphews)"
   ]
  },
  {
   "cell_type": "code",
   "execution_count": 21,
   "metadata": {},
   "outputs": [
    {
     "name": "stdout",
     "output_type": "stream",
     "text": [
      "['ArilJangidJangidJangidJangid Jangid', 'RamJangidJangidJangidJangid Jangid', 'RadheJangidJangidJangidJangid Jangid', 'Hema Jangid']\n"
     ]
    }
   ],
   "source": [
    "newphews.append('Hema Jangid')\n",
    "print(newphews)"
   ]
  },
  {
   "cell_type": "code",
   "execution_count": 22,
   "metadata": {},
   "outputs": [
    {
     "name": "stdout",
     "output_type": "stream",
     "text": [
      "['ArilJangidJangidJangidJangid Jangid', 'RamJangidJangidJangidJangid Jangid', 'RadheJangidJangidJangidJangid Jangid', 'Hema Jangid', 'Jyoti Jangd', 'Anita Jangid']\n"
     ]
    }
   ],
   "source": [
    "newphews.extend(['Jyoti Jangd','Anita Jangid'])\n",
    "print(newphews)"
   ]
  },
  {
   "cell_type": "code",
   "execution_count": 23,
   "metadata": {},
   "outputs": [
    {
     "name": "stdout",
     "output_type": "stream",
     "text": [
      "['ArilJangidJangidJangidJangid Jangid', 'RamJangidJangidJangidJangid Jangid', 'RadheJangidJangidJangidJangid Jangid', 'Hema Jangid', 'Jyoti Jangd', 'Anita Jangid', 'Maina Jangid', 'Pramod Jangid']\n"
     ]
    }
   ],
   "source": [
    "jangids = newphews + ['Maina Jangid','Pramod Jangid']\n",
    "print(jangids)"
   ]
  },
  {
   "cell_type": "code",
   "execution_count": 24,
   "metadata": {},
   "outputs": [
    {
     "name": "stdout",
     "output_type": "stream",
     "text": [
      "['Sumitra Jangid', 'ArilJangidJangidJangidJangid Jangid', 'RamJangidJangidJangidJangid Jangid', 'RadheJangidJangidJangidJangid Jangid', 'Hema Jangid', 'Jyoti Jangd', 'Anita Jangid', 'Maina Jangid', 'Pramod Jangid']\n"
     ]
    }
   ],
   "source": [
    "jangids.insert(0,'Sumitra Jangid')\n",
    "print(jangids)"
   ]
  },
  {
   "cell_type": "code",
   "execution_count": 28,
   "metadata": {},
   "outputs": [
    {
     "name": "stdout",
     "output_type": "stream",
     "text": [
      "['Sumitra Jangid', 'Hema Jangid', 'Jyoti Jangd', 'Anita Jangid', 'Maina Jangid', 'Pramod Jangid']\n"
     ]
    }
   ],
   "source": [
    "del jangids[1]\n",
    "print(jangids)"
   ]
  },
  {
   "cell_type": "code",
   "execution_count": 29,
   "metadata": {},
   "outputs": [
    {
     "name": "stdout",
     "output_type": "stream",
     "text": [
      "['Hema Jangid', 'Jyoti Jangd', 'Anita Jangid', 'Maina Jangid', 'Pramod Jangid']\n"
     ]
    }
   ],
   "source": [
    "jangids.remove('Sumitra Jangid')\n",
    "print(jangids)"
   ]
  },
  {
   "cell_type": "code",
   "execution_count": 32,
   "metadata": {},
   "outputs": [
    {
     "name": "stdout",
     "output_type": "stream",
     "text": [
      "['Anita Jangid', 'Hema Jangid', 'Jyoti Jangd', 'Maina Jangid', 'Pramod Jangid']\n"
     ]
    }
   ],
   "source": [
    "jangids.sort()\n",
    "print(jangids)"
   ]
  },
  {
   "cell_type": "code",
   "execution_count": 33,
   "metadata": {},
   "outputs": [],
   "source": [
    "sq = [1,4,9,16,25,36,49]"
   ]
  },
  {
   "cell_type": "code",
   "execution_count": 34,
   "metadata": {},
   "outputs": [
    {
     "name": "stdout",
     "output_type": "stream",
     "text": [
      "[1, 4, 9, 16, 25, 36, 49]\n"
     ]
    }
   ],
   "source": [
    "print(sq)"
   ]
  },
  {
   "cell_type": "code",
   "execution_count": 36,
   "metadata": {},
   "outputs": [
    {
     "data": {
      "text/plain": [
       "[4, 9]"
      ]
     },
     "execution_count": 36,
     "metadata": {},
     "output_type": "execute_result"
    }
   ],
   "source": [
    "sq[1:3]"
   ]
  },
  {
   "cell_type": "code",
   "execution_count": 37,
   "metadata": {},
   "outputs": [
    {
     "data": {
      "text/plain": [
       "[1, 4, 9]"
      ]
     },
     "execution_count": 37,
     "metadata": {},
     "output_type": "execute_result"
    }
   ],
   "source": [
    "sq[:3]"
   ]
  },
  {
   "cell_type": "code",
   "execution_count": 39,
   "metadata": {},
   "outputs": [
    {
     "data": {
      "text/plain": [
       "[1, 4, 9, 16, 25, 36, 49]"
      ]
     },
     "execution_count": 39,
     "metadata": {},
     "output_type": "execute_result"
    }
   ],
   "source": [
    "sq[0:]"
   ]
  },
  {
   "cell_type": "code",
   "execution_count": 40,
   "metadata": {},
   "outputs": [],
   "source": [
    "slice = sq[2:6]"
   ]
  },
  {
   "cell_type": "code",
   "execution_count": 41,
   "metadata": {},
   "outputs": [
    {
     "name": "stdout",
     "output_type": "stream",
     "text": [
      "[9, 16, 25, 36]\n"
     ]
    }
   ],
   "source": [
    "print(slice)"
   ]
  },
  {
   "cell_type": "code",
   "execution_count": 42,
   "metadata": {},
   "outputs": [
    {
     "data": {
      "text/plain": [
       "[1, 4, 9, 16, 25, 36, 49]"
      ]
     },
     "execution_count": 42,
     "metadata": {},
     "output_type": "execute_result"
    }
   ],
   "source": [
    "sq[:]"
   ]
  },
  {
   "cell_type": "code",
   "execution_count": 51,
   "metadata": {},
   "outputs": [],
   "source": [
    "sq = sq + jangids"
   ]
  },
  {
   "cell_type": "code",
   "execution_count": 52,
   "metadata": {},
   "outputs": [
    {
     "name": "stdout",
     "output_type": "stream",
     "text": [
      "[1, 4, 9, 16, 25, 36, 49, 'Anita Jangid', 'Hema Jangid', 'Jyoti Jangd', 'Maina Jangid', 'Pramod Jangid']\n"
     ]
    }
   ],
   "source": [
    "print(sq)"
   ]
  },
  {
   "cell_type": "code",
   "execution_count": 54,
   "metadata": {},
   "outputs": [
    {
     "name": "stdout",
     "output_type": "stream",
     "text": [
      "Element:  1\n",
      "Element:  4\n",
      "Element:  9\n",
      "Element:  16\n",
      "Element:  25\n",
      "Element:  36\n",
      "Element:  49\n",
      "Element:  Anita Jangid\n",
      "Element:  Hema Jangid\n",
      "Element:  Jyoti Jangd\n",
      "Element:  Maina Jangid\n",
      "Element:  Pramod Jangid\n"
     ]
    }
   ],
   "source": [
    "for values in sq:\n",
    "    print(\"Element: \",values)"
   ]
  },
  {
   "cell_type": "code",
   "execution_count": null,
   "metadata": {},
   "outputs": [],
   "source": []
  },
  {
   "cell_type": "code",
   "execution_count": 68,
   "metadata": {},
   "outputs": [
    {
     "name": "stdout",
     "output_type": "stream",
     "text": [
      "Element 0 -> 1\n",
      "Element 1 -> 4\n",
      "Element 2 -> 9\n",
      "Element 3 -> 16\n",
      "Element 4 -> 25\n",
      "Element 5 -> 36\n",
      "Element 6 -> 49\n"
     ]
    }
   ],
   "source": [
    "for index, value in enumerate(sq):\n",
    "    print(\"Element\",index,\"->\",value)"
   ]
  },
  {
   "cell_type": "code",
   "execution_count": 71,
   "metadata": {},
   "outputs": [],
   "source": [
    "states = {'Rajasthan':'Jaipur','UP':'Lukhnow','MP':'Bhopal','Telangana':'Hyderabad','Karnataka':'Bangalore'}"
   ]
  },
  {
   "cell_type": "code",
   "execution_count": 72,
   "metadata": {},
   "outputs": [
    {
     "name": "stdout",
     "output_type": "stream",
     "text": [
      "{'Rajasthan': 'Jaipur', 'UP': 'Lukhnow', 'MP': 'Bhopal', 'Telangana': 'Hyderabad', 'Karnataka': 'Bangalore'}\n"
     ]
    }
   ],
   "source": [
    "print(states)"
   ]
  },
  {
   "cell_type": "code",
   "execution_count": 73,
   "metadata": {},
   "outputs": [
    {
     "data": {
      "text/plain": [
       "{'Rajasthan': 'Jaipur',\n",
       " 'UP': 'Lukhnow',\n",
       " 'MP': 'Bhopal',\n",
       " 'Telangana': 'Hyderabad',\n",
       " 'Karnataka': 'Bangalore'}"
      ]
     },
     "execution_count": 73,
     "metadata": {},
     "output_type": "execute_result"
    }
   ],
   "source": [
    "states"
   ]
  },
  {
   "cell_type": "code",
   "execution_count": 76,
   "metadata": {},
   "outputs": [
    {
     "data": {
      "text/plain": [
       "'Lukhnow'"
      ]
     },
     "execution_count": 76,
     "metadata": {},
     "output_type": "execute_result"
    }
   ],
   "source": [
    "states['UP']"
   ]
  },
  {
   "cell_type": "code",
   "execution_count": 77,
   "metadata": {},
   "outputs": [
    {
     "data": {
      "text/plain": [
       "True"
      ]
     },
     "execution_count": 77,
     "metadata": {},
     "output_type": "execute_result"
    }
   ],
   "source": [
    "'MP' in states"
   ]
  },
  {
   "cell_type": "code",
   "execution_count": 79,
   "metadata": {},
   "outputs": [
    {
     "data": {
      "text/plain": [
       "{'Goa': 'Panji', 'Punjab': 'Chandigarh', 'Gujrat': 'Gandhinagar'}"
      ]
     },
     "execution_count": 79,
     "metadata": {},
     "output_type": "execute_result"
    }
   ],
   "source": [
    "more = {'Goa':'Panji','Punjab':'Chandigarh','Gujrat':'Gandhinagar'}\n",
    "more"
   ]
  },
  {
   "cell_type": "code",
   "execution_count": 80,
   "metadata": {},
   "outputs": [
    {
     "data": {
      "text/plain": [
       "{'Rajasthan': 'Jaipur',\n",
       " 'UP': 'Lukhnow',\n",
       " 'MP': 'Bhopal',\n",
       " 'Telangana': 'Hyderabad',\n",
       " 'Karnataka': 'Bangalore',\n",
       " 'Goa': 'Panji',\n",
       " 'Punjab': 'Chandigarh',\n",
       " 'Gujrat': 'Gandhinagar'}"
      ]
     },
     "execution_count": 80,
     "metadata": {},
     "output_type": "execute_result"
    }
   ],
   "source": [
    "states.update(more)\n",
    "states"
   ]
  },
  {
   "cell_type": "code",
   "execution_count": 81,
   "metadata": {},
   "outputs": [
    {
     "name": "stdout",
     "output_type": "stream",
     "text": [
      "Rajasthan\n",
      "UP\n",
      "MP\n",
      "Telangana\n",
      "Karnataka\n",
      "Goa\n",
      "Punjab\n",
      "Gujrat\n",
      "Jaipur\n",
      "Lukhnow\n",
      "Bhopal\n",
      "Hyderabad\n",
      "Bangalore\n",
      "Panji\n",
      "Chandigarh\n",
      "Gandhinagar\n",
      "Rajasthan -> Jaipur\n",
      "UP -> Lukhnow\n",
      "MP -> Bhopal\n",
      "Telangana -> Hyderabad\n",
      "Karnataka -> Bangalore\n",
      "Goa -> Panji\n",
      "Punjab -> Chandigarh\n",
      "Gujrat -> Gandhinagar\n"
     ]
    }
   ],
   "source": [
    "for key in states.keys():\n",
    "    print(key)\n",
    "    \n",
    "for value in states.values():\n",
    "    print(value)\n",
    "for key,value in states.items():\n",
    "    print(key, \"->\", value)"
   ]
  },
  {
   "cell_type": "code",
   "execution_count": 82,
   "metadata": {},
   "outputs": [
    {
     "data": {
      "text/plain": [
       "[0, 1, 4, 9, 16, 25, 36, 49, 64, 81]"
      ]
     },
     "execution_count": 82,
     "metadata": {},
     "output_type": "execute_result"
    }
   ],
   "source": [
    "sq = []\n",
    "\n",
    "for i in range(10):\n",
    "    sq.append(i**2)\n",
    "    \n",
    "sq"
   ]
  },
  {
   "cell_type": "code",
   "execution_count": 83,
   "metadata": {},
   "outputs": [
    {
     "data": {
      "text/plain": [
       "{0,\n",
       " 1,\n",
       " 4,\n",
       " 9,\n",
       " 16,\n",
       " 25,\n",
       " 36,\n",
       " 49,\n",
       " 64,\n",
       " 81,\n",
       " 100,\n",
       " 121,\n",
       " 144,\n",
       " 169,\n",
       " 196,\n",
       " 225,\n",
       " 256,\n",
       " 289,\n",
       " 324,\n",
       " 361}"
      ]
     },
     "execution_count": 83,
     "metadata": {},
     "output_type": "execute_result"
    }
   ],
   "source": [
    "sq = {i**2 for i in range(20)}\n",
    "sq"
   ]
  },
  {
   "cell_type": "code",
   "execution_count": 84,
   "metadata": {},
   "outputs": [
    {
     "data": {
      "text/plain": [
       "{0, 3125, 100000, 759375, 3200000, 9765625}"
      ]
     },
     "execution_count": 84,
     "metadata": {},
     "output_type": "execute_result"
    }
   ],
   "source": [
    "sq5 = {i**5 for i in range(30) if i%5 == 0}\n",
    "sq5"
   ]
  },
  {
   "cell_type": "code",
   "execution_count": 87,
   "metadata": {},
   "outputs": [
    {
     "data": {
      "text/plain": [
       "{'Jaipur': 'Rajasthan',\n",
       " 'Lukhnow': 'UP',\n",
       " 'Bhopal': 'MP',\n",
       " 'Hyderabad': 'Telangana',\n",
       " 'Bangalore': 'Karnataka',\n",
       " 'Panji': 'Goa',\n",
       " 'Chandigarh': 'Punjab',\n",
       " 'Gandhinagar': 'Gujrat'}"
      ]
     },
     "execution_count": 87,
     "metadata": {},
     "output_type": "execute_result"
    }
   ],
   "source": [
    "states\n",
    "states_bycapital = {states[key]:key for key in states}\n",
    "states_bycapital"
   ]
  },
  {
   "cell_type": "code",
   "execution_count": 89,
   "metadata": {},
   "outputs": [
    {
     "data": {
      "text/plain": [
       "109687425"
      ]
     },
     "execution_count": 89,
     "metadata": {},
     "output_type": "execute_result"
    }
   ],
   "source": [
    "sum(i**5 for i in range(30))"
   ]
  },
  {
   "cell_type": "code",
   "execution_count": 91,
   "metadata": {},
   "outputs": [
    {
     "data": {
      "text/plain": [
       "109687425"
      ]
     },
     "execution_count": 91,
     "metadata": {},
     "output_type": "execute_result"
    }
   ],
   "source": [
    "sum([i**5 for i in range(30)])"
   ]
  },
  {
   "cell_type": "code",
   "execution_count": 93,
   "metadata": {},
   "outputs": [],
   "source": [
    "words = open('words_alpha','r')"
   ]
  },
  {
   "cell_type": "code",
   "execution_count": 95,
   "metadata": {},
   "outputs": [],
   "source": [
    "wordlist = words.readlines()"
   ]
  },
  {
   "cell_type": "code",
   "execution_count": 98,
   "metadata": {},
   "outputs": [
    {
     "data": {
      "text/plain": [
       "['\\n',\n",
       " '\\n',\n",
       " '\\n',\n",
       " '\\n',\n",
       " '\\n',\n",
       " '<!DOCTYPE html>\\n',\n",
       " '<html lang=\"en\">\\n',\n",
       " '  <head>\\n',\n",
       " '    <meta charset=\"utf-8\">\\n',\n",
       " '  <link rel=\"dns-prefetch\" href=\"https://github.githubassets.com\">\\n',\n",
       " '  <link rel=\"dns-prefetch\" href=\"https://avatars0.githubusercontent.com\">\\n',\n",
       " '  <link rel=\"dns-prefetch\" href=\"https://avatars1.githubusercontent.com\">\\n',\n",
       " '  <link rel=\"dns-prefetch\" href=\"https://avatars2.githubusercontent.com\">\\n',\n",
       " '  <link rel=\"dns-prefetch\" href=\"https://avatars3.githubusercontent.com\">\\n',\n",
       " '  <link rel=\"dns-prefetch\" href=\"https://github-cloud.s3.amazonaws.com\">\\n',\n",
       " '  <link rel=\"dns-prefetch\" href=\"https://user-images.githubusercontent.com/\">\\n',\n",
       " '\\n',\n",
       " '\\n',\n",
       " '\\n',\n",
       " '  <link crossorigin=\"anonymous\" media=\"all\" integrity=\"sha512-veKG2ootplNGLwNEW5It4+lJXwpdOVR1Ry4MBDNvdgL6OgBkiAXaZAZnIKkw6sIygnfGqQhR5q7UdS1llqd6/g==\" rel=\"stylesheet\" href=\"https://github.githubassets.com/assets/frameworks-bde286da8a2da653462f03445b922de3.css\" />\\n',\n",
       " '  <link crossorigin=\"anonymous\" media=\"all\" integrity=\"sha512-SIdH/u1H0WymCGxSKvv9kCVqCpgpL7GuBc5dVtA1UApgTky3oIA6YLFIzjYiN7fjVk/vZcu/QX5sobbu5BCkmg==\" rel=\"stylesheet\" href=\"https://github.githubassets.com/assets/site-488747feed47d16ca6086c522afbfd90.css\" />\\n',\n",
       " '    <link crossorigin=\"anonymous\" media=\"all\" integrity=\"sha512-uBgWqdOZzgySFqUFlZ/Uwh2/jiEforBgFkx2QPyBtmT5yhdSONvYIca7LoIWDdoHoF8lWT7FqvTt2HAFoYF1fA==\" rel=\"stylesheet\" href=\"https://github.githubassets.com/assets/github-b81816a9d399ce0c9216a505959fd4c2.css\" />\\n',\n",
       " '    \\n',\n",
       " '    \\n',\n",
       " '    \\n',\n",
       " '    \\n',\n",
       " '\\n',\n",
       " '\\n',\n",
       " '  <meta name=\"viewport\" content=\"width=device-width\">\\n',\n",
       " '  \\n',\n",
       " '  <title>english-words/words_alpha.txt at master Â· dwyl/english-words Â· GitHub</title>\\n',\n",
       " '    <meta name=\"description\" content=\":memo: A text file containing 479k English words for all your dictionary/word-based projects e.g: auto-completion / autosuggestion - dwyl/english-words\">\\n',\n",
       " '    <link rel=\"search\" type=\"application/opensearchdescription+xml\" href=\"/opensearch.xml\" title=\"GitHub\">\\n',\n",
       " '  <link rel=\"fluid-icon\" href=\"https://github.com/fluidicon.png\" title=\"GitHub\">\\n',\n",
       " '  <meta property=\"fb:app_id\" content=\"1401488693436528\">\\n',\n",
       " '\\n',\n",
       " '    <meta name=\"twitter:image:src\" content=\"https://avatars3.githubusercontent.com/u/11708465?s=400&amp;v=4\" /><meta name=\"twitter:site\" content=\"@github\" /><meta name=\"twitter:card\" content=\"summary\" /><meta name=\"twitter:title\" content=\"dwyl/english-words\" /><meta name=\"twitter:description\" content=\":memo: A text file containing 479k English words for all your dictionary/word-based projects e.g: auto-completion / autosuggestion - dwyl/english-words\" />\\n',\n",
       " '    <meta property=\"og:image\" content=\"https://avatars3.githubusercontent.com/u/11708465?s=400&amp;v=4\" /><meta property=\"og:site_name\" content=\"GitHub\" /><meta property=\"og:type\" content=\"object\" /><meta property=\"og:title\" content=\"dwyl/english-words\" /><meta property=\"og:url\" content=\"https://github.com/dwyl/english-words\" /><meta property=\"og:description\" content=\":memo: A text file containing 479k English words for all your dictionary/word-based projects e.g: auto-completion / autosuggestion - dwyl/english-words\" />\\n',\n",
       " '\\n',\n",
       " '  <link rel=\"assets\" href=\"https://github.githubassets.com/\">\\n',\n",
       " '  \\n',\n",
       " '\\n',\n",
       " '  <meta name=\"request-id\" content=\"DF15:2E44:281A9:365AC:5ED92360\" data-pjax-transient=\"true\"/><meta name=\"html-safe-nonce\" content=\"67ebeed995cbd55c015a78455f6f976cc2f98a8a\" data-pjax-transient=\"true\"/><meta name=\"visitor-payload\" content=\"eyJyZWZlcnJlciI6Imh0dHBzOi8vZ2l0aHViLmNvbS9kd3lsL2VuZ2xpc2gtd29yZHMiLCJyZXF1ZXN0X2lkIjoiREYxNToyRTQ0OjI4MUE5OjM2NUFDOjVFRDkyMzYwIiwidmlzaXRvcl9pZCI6IjMwMTk4OTgxNjg1NjQ3MzQ4NzgiLCJyZWdpb25fZWRnZSI6ImFwLXNvdXRoLTEiLCJyZWdpb25fcmVuZGVyIjoiYXAtc291dGgtMSJ9\" data-pjax-transient=\"true\"/><meta name=\"visitor-hmac\" content=\"e042783266250a412199e538fca3a5b7640069fe4f70cb1b8772bdafa086d640\" data-pjax-transient=\"true\"/>\\n',\n",
       " '\\n',\n",
       " '\\n',\n",
       " '\\n',\n",
       " '  <meta name=\"github-keyboard-shortcuts\" content=\"repository,source-code\" data-pjax-transient=\"true\" />\\n',\n",
       " '\\n',\n",
       " '  \\n',\n",
       " '\\n',\n",
       " '  <meta name=\"selected-link\" value=\"repo_source\" data-pjax-transient>\\n',\n",
       " '\\n',\n",
       " '    <meta name=\"google-site-verification\" content=\"c1kuD-K2HIVF635lypcsWPoD4kilo5-jA_wBFyT4uMY\">\\n',\n",
       " '  <meta name=\"google-site-verification\" content=\"KT5gs8h0wvaagLKAVWq8bbeNwnZZK1r1XQysX3xurLU\">\\n',\n",
       " '  <meta name=\"google-site-verification\" content=\"ZzhVyEFwb7w3e0-uOTltm8Jsck2F5StVihD0exw2fsA\">\\n',\n",
       " '  <meta name=\"google-site-verification\" content=\"GXs5KoUUkNCoaAZn7wPN-t01Pywp9M3sEjnt_3_ZWPc\">\\n',\n",
       " '\\n',\n",
       " '<meta name=\"octolytics-host\" content=\"collector.githubapp.com\" /><meta name=\"octolytics-app-id\" content=\"github\" /><meta name=\"octolytics-event-url\" content=\"https://collector.githubapp.com/github-external/browser_event\" /><meta name=\"octolytics-dimension-ga_id\" content=\"\" class=\"js-octo-ga-id\" />\\n',\n",
       " '<meta name=\"analytics-location\" content=\"/&lt;user-name&gt;/&lt;repo-name&gt;/blob/show\" data-pjax-transient=\"true\" />\\n',\n",
       " '\\n',\n",
       " '\\n',\n",
       " '<meta name=\"optimizely-sdk-key\" content=\"cowimJNste4j7QnBNCjaw\" />\\n',\n",
       " '\\n',\n",
       " '    <meta name=\"google-analytics\" content=\"UA-3769691-2\">\\n',\n",
       " '\\n',\n",
       " '\\n',\n",
       " '<meta class=\"js-ga-set\" name=\"dimension1\" content=\"Logged Out\">\\n',\n",
       " '\\n',\n",
       " '\\n',\n",
       " '\\n',\n",
       " '  \\n',\n",
       " '\\n',\n",
       " '      <meta name=\"hostname\" content=\"github.com\">\\n',\n",
       " '    <meta name=\"user-login\" content=\"\">\\n',\n",
       " '\\n',\n",
       " '\\n',\n",
       " '      <meta name=\"expected-hostname\" content=\"github.com\">\\n',\n",
       " '\\n',\n",
       " '\\n',\n",
       " '    <meta name=\"enabled-features\" content=\"MARKETPLACE_PENDING_INSTALLATIONS,JS_CHUNKING\">\\n',\n",
       " '\\n',\n",
       " '  <meta http-equiv=\"x-pjax-version\" content=\"b3ebb275584ccddb174ce91b0d246ac6\">\\n',\n",
       " '  \\n',\n",
       " '\\n',\n",
       " '      <link href=\"https://github.com/dwyl/english-words/commits/master.atom\" rel=\"alternate\" title=\"Recent Commits to english-words:master\" type=\"application/atom+xml\">\\n',\n",
       " '\\n',\n",
       " '  <meta name=\"go-import\" content=\"github.com/dwyl/english-words git https://github.com/dwyl/english-words.git\">\\n',\n",
       " '\\n',\n",
       " '  <meta name=\"octolytics-dimension-user_id\" content=\"11708465\" /><meta name=\"octolytics-dimension-user_login\" content=\"dwyl\" /><meta name=\"octolytics-dimension-repository_id\" content=\"21800813\" /><meta name=\"octolytics-dimension-repository_nwo\" content=\"dwyl/english-words\" /><meta name=\"octolytics-dimension-repository_public\" content=\"true\" /><meta name=\"octolytics-dimension-repository_is_fork\" content=\"false\" /><meta name=\"octolytics-dimension-repository_network_root_id\" content=\"21800813\" /><meta name=\"octolytics-dimension-repository_network_root_nwo\" content=\"dwyl/english-words\" /><meta name=\"octolytics-dimension-repository_explore_github_marketplace_ci_cta_shown\" content=\"false\" />\\n',\n",
       " '\\n',\n",
       " '\\n',\n",
       " '    <link rel=\"canonical\" href=\"https://github.com/dwyl/english-words/blob/master/words_alpha.txt\" data-pjax-transient>\\n',\n",
       " '\\n',\n",
       " '\\n',\n",
       " '  <meta name=\"browser-stats-url\" content=\"https://api.github.com/_private/browser/stats\">\\n',\n",
       " '\\n',\n",
       " '  <meta name=\"browser-errors-url\" content=\"https://api.github.com/_private/browser/errors\">\\n',\n",
       " '\\n',\n",
       " '  <link rel=\"mask-icon\" href=\"https://github.githubassets.com/pinned-octocat.svg\" color=\"#000000\">\\n',\n",
       " '  <link rel=\"alternate icon\" class=\"js-site-favicon\" type=\"image/png\" href=\"https://github.githubassets.com/favicons/favicon.png\">\\n',\n",
       " '  <link rel=\"icon\" class=\"js-site-favicon\" type=\"image/svg+xml\" href=\"https://github.githubassets.com/favicons/favicon.svg\">\\n',\n",
       " '\\n',\n",
       " '<meta name=\"theme-color\" content=\"#1e2327\">\\n',\n",
       " '\\n',\n",
       " '\\n',\n",
       " '  <link rel=\"manifest\" href=\"/manifest.json\" crossOrigin=\"use-credentials\">\\n',\n",
       " '\\n',\n",
       " '  </head>\\n',\n",
       " '\\n',\n",
       " '  <body class=\"logged-out env-production page-responsive page-blob\">\\n',\n",
       " '    \\n',\n",
       " '\\n',\n",
       " '    <div class=\"position-relative js-header-wrapper \">\\n',\n",
       " '      <a href=\"#start-of-content\" class=\"px-2 py-4 bg-blue text-white show-on-focus js-skip-to-content\">Skip to content</a>\\n',\n",
       " '      <span class=\"Progress progress-pjax-loader position-fixed width-full js-pjax-loader-bar\">\\n',\n",
       " '        <span class=\"progress-pjax-loader-bar top-0 left-0\" style=\"width: 0%;\"></span>\\n',\n",
       " '      </span>\\n',\n",
       " '\\n',\n",
       " '      \\n',\n",
       " '      \\n',\n",
       " '\\n',\n",
       " '\\n',\n",
       " '\\n',\n",
       " '          <header class=\"Header-old header-logged-out js-details-container Details position-relative f4 py-2\" role=\"banner\">\\n',\n",
       " '  <div class=\"container-lg d-lg-flex flex-items-center p-responsive\">\\n',\n",
       " '    <div class=\"d-flex flex-justify-between flex-items-center\">\\n',\n",
       " '        <a class=\"mr-4\" href=\"https://github.com/\" aria-label=\"Homepage\" data-ga-click=\"(Logged out) Header, go to homepage, icon:logo-wordmark\">\\n',\n",
       " '          <svg height=\"32\" class=\"octicon octicon-mark-github text-white\" viewBox=\"0 0 16 16\" version=\"1.1\" width=\"32\" aria-hidden=\"true\"><path fill-rule=\"evenodd\" d=\"M8 0C3.58 0 0 3.58 0 8c0 3.54 2.29 6.53 5.47 7.59.4.07.55-.17.55-.38 0-.19-.01-.82-.01-1.49-2.01.37-2.53-.49-2.69-.94-.09-.23-.48-.94-.82-1.13-.28-.15-.68-.52-.01-.53.63-.01 1.08.58 1.23.82.72 1.21 1.87.87 2.33.66.07-.52.28-.87.51-1.07-1.78-.2-3.64-.89-3.64-3.95 0-.87.31-1.59.82-2.15-.08-.2-.36-1.02.08-2.12 0 0 .67-.21 2.2.82.64-.18 1.32-.27 2-.27.68 0 1.36.09 2 .27 1.53-1.04 2.2-.82 2.2-.82.44 1.1.16 1.92.08 2.12.51.56.82 1.27.82 2.15 0 3.07-1.87 3.75-3.65 3.95.29.25.54.73.54 1.48 0 1.07-.01 1.93-.01 2.2 0 .21.15.46.55.38A8.013 8.013 0 0016 8c0-4.42-3.58-8-8-8z\"></path></svg>\\n',\n",
       " '        </a>\\n',\n",
       " '\\n',\n",
       " '          <div class=\"d-lg-none css-truncate css-truncate-target width-fit p-2\">\\n',\n",
       " '            \\n',\n",
       " '                <svg class=\"octicon octicon-repo\" viewBox=\"0 0 12 16\" version=\"1.1\" width=\"12\" height=\"16\" aria-hidden=\"true\"><path fill-rule=\"evenodd\" d=\"M4 9H3V8h1v1zm0-3H3v1h1V6zm0-2H3v1h1V4zm0-2H3v1h1V2zm8-1v12c0 .55-.45 1-1 1H6v2l-1.5-1.5L3 16v-2H1c-.55 0-1-.45-1-1V1c0-.55.45-1 1-1h10c.55 0 1 .45 1 1zm-1 10H1v2h2v-1h3v1h5v-2zm0-10H2v9h9V1z\"></path></svg>\\n',\n",
       " '    <a class=\"Header-link\" href=\"/dwyl\">dwyl</a>\\n',\n",
       " '    /\\n',\n",
       " '    <a class=\"Header-link\" href=\"/dwyl/english-words\">english-words</a>\\n',\n",
       " '\\n',\n",
       " '\\n',\n",
       " '          </div>\\n',\n",
       " '\\n',\n",
       " '        <div class=\"d-flex flex-items-center\">\\n',\n",
       " '              <a href=\"/join?ref_cta=Sign+up&amp;ref_loc=header+logged+out&amp;ref_page=%2F%3Cuser-name%3E%2F%3Crepo-name%3E%2Fblob%2Fshow&amp;source=header-repo\"\\n',\n",
       " '                class=\"d-inline-block d-lg-none f5 text-white no-underline border border-gray-dark rounded-2 px-2 py-1 mr-3 mr-sm-5\"\\n',\n",
       " '                data-hydro-click=\"{&quot;event_type&quot;:&quot;authentication.click&quot;,&quot;payload&quot;:{&quot;location_in_page&quot;:&quot;site header&quot;,&quot;repository_id&quot;:null,&quot;auth_type&quot;:&quot;SIGN_UP&quot;,&quot;originating_url&quot;:&quot;https://github.com/dwyl/english-words/blob/master/words_alpha.txt&quot;,&quot;user_id&quot;:null}}\" data-hydro-click-hmac=\"72f94e6d574b50959d5505a4db08a3e47a61e9fee0d85b252a8329e391fd8b02\"\\n',\n",
       " '                data-ga-click=\"Sign up, click to sign up for account, ref_page:/&lt;user-name&gt;/&lt;repo-name&gt;/blob/show;ref_cta:Sign up;ref_loc:header logged out\">\\n',\n",
       " '                Sign&nbsp;up\\n',\n",
       " '              </a>\\n',\n",
       " '\\n',\n",
       " '          <button class=\"btn-link d-lg-none mt-1 js-details-target\" type=\"button\" aria-label=\"Toggle navigation\" aria-expanded=\"false\">\\n',\n",
       " '            <svg height=\"24\" class=\"octicon octicon-three-bars text-white\" viewBox=\"0 0 12 16\" version=\"1.1\" width=\"18\" aria-hidden=\"true\"><path fill-rule=\"evenodd\" d=\"M11.41 9H.59C0 9 0 8.59 0 8c0-.59 0-1 .59-1H11.4c.59 0 .59.41.59 1 0 .59 0 1-.59 1h.01zm0-4H.59C0 5 0 4.59 0 4c0-.59 0-1 .59-1H11.4c.59 0 .59.41.59 1 0 .59 0 1-.59 1h.01zM.59 11H11.4c.59 0 .59.41.59 1 0 .59 0 1-.59 1H.59C0 13 0 12.59 0 12c0-.59 0-1 .59-1z\"></path></svg>\\n',\n",
       " '          </button>\\n',\n",
       " '        </div>\\n',\n",
       " '    </div>\\n',\n",
       " '\\n',\n",
       " '    <div class=\"HeaderMenu HeaderMenu--logged-out position-fixed top-0 right-0 bottom-0 height-fit position-lg-relative d-lg-flex flex-justify-between flex-items-center flex-auto\">\\n',\n",
       " '      <div class=\"d-flex d-lg-none flex-justify-end border-bottom bg-gray-light p-3\">\\n',\n",
       " '        <button class=\"btn-link js-details-target\" type=\"button\" aria-label=\"Toggle navigation\" aria-expanded=\"false\">\\n',\n",
       " '          <svg height=\"24\" class=\"octicon octicon-x text-gray\" viewBox=\"0 0 12 16\" version=\"1.1\" width=\"18\" aria-hidden=\"true\"><path fill-rule=\"evenodd\" d=\"M7.48 8l3.75 3.75-1.48 1.48L6 9.48l-3.75 3.75-1.48-1.48L4.52 8 .77 4.25l1.48-1.48L6 6.52l3.75-3.75 1.48 1.48L7.48 8z\"></path></svg>\\n',\n",
       " '        </button>\\n',\n",
       " '      </div>\\n',\n",
       " '\\n',\n",
       " '        <nav class=\"mt-0 px-3 px-lg-0 mb-5 mb-lg-0\" aria-label=\"Global\">\\n',\n",
       " '          <ul class=\"d-lg-flex list-style-none\">\\n',\n",
       " '              <li class=\"d-block d-lg-flex flex-lg-nowrap flex-lg-items-center border-bottom border-lg-bottom-0 mr-0 mr-lg-3 edge-item-fix position-relative flex-wrap flex-justify-between d-flex flex-items-center \">\\n',\n",
       " '                <details class=\"HeaderMenu-details details-overlay details-reset width-full\">\\n',\n",
       " '                  <summary class=\"HeaderMenu-summary HeaderMenu-link px-0 py-3 border-0 no-wrap d-block d-lg-inline-block\">\\n',\n",
       " '                    Why GitHub?\\n',\n",
       " '                    <svg x=\"0px\" y=\"0px\" viewBox=\"0 0 14 8\" xml:space=\"preserve\" fill=\"none\" class=\"icon-chevon-down-mktg position-absolute position-lg-relative\">\\n',\n",
       " '                      <path d=\"M1,1l6.2,6L13,1\"></path>\\n',\n",
       " '                    </svg>\\n',\n",
       " '                  </summary>\\n',\n",
       " '                  <div class=\"dropdown-menu flex-auto rounded-1 bg-white px-0 mt-0 pb-4 p-lg-4 position-relative position-lg-absolute left-0 left-lg-n4\">\\n',\n",
       " '                    <a href=\"/features\" class=\"py-2 lh-condensed-ultra d-block link-gray-dark no-underline h5 Bump-link--hover\" data-ga-click=\"(Logged out) Header, go to Features\">Features <span class=\"Bump-link-symbol float-right text-normal text-gray-light\">&rarr;</span></a>\\n',\n",
       " '                    <ul class=\"list-style-none f5 pb-3\">\\n',\n",
       " '                      <li class=\"edge-item-fix\"><a href=\"/features/code-review/\" class=\"py-2 lh-condensed-ultra d-block link-gray no-underline f5\" data-ga-click=\"(Logged out) Header, go to Code review\">Code review</a></li>\\n',\n",
       " '                      <li class=\"edge-item-fix\"><a href=\"/features/project-management/\" class=\"py-2 lh-condensed-ultra d-block link-gray no-underline f5\" data-ga-click=\"(Logged out) Header, go to Project management\">Project management</a></li>\\n',\n",
       " '                      <li class=\"edge-item-fix\"><a href=\"/features/integrations\" class=\"py-2 lh-condensed-ultra d-block link-gray no-underline f5\" data-ga-click=\"(Logged out) Header, go to Integrations\">Integrations</a></li>\\n',\n",
       " '                      <li class=\"edge-item-fix\"><a href=\"/features/actions\" class=\"py-2 lh-condensed-ultra d-block link-gray no-underline f5\" data-ga-click=\"(Logged out) Header, go to Actions\">Actions</a></li>\\n',\n",
       " '                      <li class=\"edge-item-fix\"><a href=\"/features/packages\" class=\"py-2 lh-condensed-ultra d-block link-gray no-underline f5\" data-ga-click=\"(Logged out) Header, go to GitHub Packages\">Packages</a></li>\\n',\n",
       " '                      <li class=\"edge-item-fix\"><a href=\"/features/security\" class=\"py-2 lh-condensed-ultra d-block link-gray no-underline f5\" data-ga-click=\"(Logged out) Header, go to Security\">Security</a></li>\\n',\n",
       " '                      <li class=\"edge-item-fix\"><a href=\"/features#team-management\" class=\"py-2 lh-condensed-ultra d-block link-gray no-underline f5\" data-ga-click=\"(Logged out) Header, go to Team management\">Team management</a></li>\\n',\n",
       " '                      <li class=\"edge-item-fix\"><a href=\"/features#hosting\" class=\"py-2 lh-condensed-ultra d-block link-gray no-underline f5\" data-ga-click=\"(Logged out) Header, go to Code hosting\">Hosting</a></li>\\n',\n",
       " '                    </ul>\\n',\n",
       " '\\n',\n",
       " '                    <ul class=\"list-style-none mb-0 border-lg-top pt-lg-3\">\\n',\n",
       " '                      <li class=\"edge-item-fix\"><a href=\"/customer-stories\" class=\"py-2 lh-condensed-ultra d-block no-underline link-gray-dark no-underline h5 Bump-link--hover\" data-ga-click=\"(Logged out) Header, go to Customer stories\">Customer stories <span class=\"Bump-link-symbol float-right text-normal text-gray-light\">&rarr;</span></a></li>\\n',\n",
       " '                      <li class=\"edge-item-fix\"><a href=\"/security\" class=\"py-2 lh-condensed-ultra d-block no-underline link-gray-dark no-underline h5 Bump-link--hover\" data-ga-click=\"(Logged out) Header, go to Security\">Security <span class=\"Bump-link-symbol float-right text-normal text-gray-light\">&rarr;</span></a></li>\\n',\n",
       " '                    </ul>\\n',\n",
       " '                  </div>\\n',\n",
       " '                </details>\\n',\n",
       " '              </li>\\n',\n",
       " '                <li class=\"border-bottom border-lg-bottom-0 mr-0 mr-lg-3\">\\n',\n",
       " '                  <a href=\"/team\" class=\"HeaderMenu-link no-underline py-3 d-block d-lg-inline-block\" data-ga-click=\"(Logged out) Header, go to Team\">Team</a>\\n',\n",
       " '                </li>\\n',\n",
       " '              <li class=\"border-bottom border-lg-bottom-0 mr-0 mr-lg-3\">\\n',\n",
       " '                <a href=\"/enterprise\" class=\"HeaderMenu-link no-underline py-3 d-block d-lg-inline-block\" data-ga-click=\"(Logged out) Header, go to Enterprise\">Enterprise</a>\\n',\n",
       " '              </li>\\n',\n",
       " '\\n',\n",
       " '              <li class=\"d-block d-lg-flex flex-lg-nowrap flex-lg-items-center border-bottom border-lg-bottom-0 mr-0 mr-lg-3 edge-item-fix position-relative flex-wrap flex-justify-between d-flex flex-items-center \">\\n',\n",
       " '                <details class=\"HeaderMenu-details details-overlay details-reset width-full\">\\n',\n",
       " '                  <summary class=\"HeaderMenu-summary HeaderMenu-link px-0 py-3 border-0 no-wrap d-block d-lg-inline-block\">\\n',\n",
       " '                    Explore\\n',\n",
       " '                    <svg x=\"0px\" y=\"0px\" viewBox=\"0 0 14 8\" xml:space=\"preserve\" fill=\"none\" class=\"icon-chevon-down-mktg position-absolute position-lg-relative\">\\n',\n",
       " '                      <path d=\"M1,1l6.2,6L13,1\"></path>\\n',\n",
       " '                    </svg>\\n',\n",
       " '                  </summary>\\n',\n",
       " '\\n',\n",
       " '                  <div class=\"dropdown-menu flex-auto rounded-1 bg-white px-0 pt-2 pb-0 mt-0 pb-4 p-lg-4 position-relative position-lg-absolute left-0 left-lg-n4\">\\n',\n",
       " '                    <ul class=\"list-style-none mb-3\">\\n',\n",
       " '                      <li class=\"edge-item-fix\"><a href=\"/explore\" class=\"py-2 lh-condensed-ultra d-block link-gray-dark no-underline h5 Bump-link--hover\" data-ga-click=\"(Logged out) Header, go to Explore\">Explore GitHub <span class=\"Bump-link-symbol float-right text-normal text-gray-light\">&rarr;</span></a></li>\\n',\n",
       " '                    </ul>\\n',\n",
       " '\\n',\n",
       " '                    <h4 class=\"text-gray-light text-normal text-mono f5 mb-2 border-lg-top pt-lg-3\">Learn &amp; contribute</h4>\\n',\n",
       " '                    <ul class=\"list-style-none mb-3\">\\n',\n",
       " '                      <li class=\"edge-item-fix\"><a href=\"/topics\" class=\"py-2 lh-condensed-ultra d-block link-gray no-underline f5\" data-ga-click=\"(Logged out) Header, go to Topics\">Topics</a></li>\\n',\n",
       " '                        <li class=\"edge-item-fix\"><a href=\"/collections\" class=\"py-2 lh-condensed-ultra d-block link-gray no-underline f5\" data-ga-click=\"(Logged out) Header, go to Collections\">Collections</a></li>\\n',\n",
       " '                      <li class=\"edge-item-fix\"><a href=\"/trending\" class=\"py-2 lh-condensed-ultra d-block link-gray no-underline f5\" data-ga-click=\"(Logged out) Header, go to Trending\">Trending</a></li>\\n',\n",
       " '                      <li class=\"edge-item-fix\"><a href=\"https://lab.github.com/\" class=\"py-2 lh-condensed-ultra d-block link-gray no-underline f5\" data-ga-click=\"(Logged out) Header, go to Learning lab\">Learning Lab</a></li>\\n',\n",
       " '                      <li class=\"edge-item-fix\"><a href=\"https://opensource.guide\" class=\"py-2 lh-condensed-ultra d-block link-gray no-underline f5\" data-ga-click=\"(Logged out) Header, go to Open source guides\">Open source guides</a></li>\\n',\n",
       " '                    </ul>\\n',\n",
       " '\\n',\n",
       " '                    <h4 class=\"text-gray-light text-normal text-mono f5 mb-2 border-lg-top pt-lg-3\">Connect with others</h4>\\n',\n",
       " '                    <ul class=\"list-style-none mb-0\">\\n',\n",
       " '                      <li class=\"edge-item-fix\"><a href=\"https://github.com/events\" class=\"py-2 lh-condensed-ultra d-block link-gray no-underline f5\" data-ga-click=\"(Logged out) Header, go to Events\">Events</a></li>\\n',\n",
       " '                      <li class=\"edge-item-fix\"><a href=\"https://github.community\" class=\"py-2 lh-condensed-ultra d-block link-gray no-underline f5\" data-ga-click=\"(Logged out) Header, go to Community forum\">Community forum</a></li>\\n',\n",
       " '                      <li class=\"edge-item-fix\"><a href=\"https://education.github.com\" class=\"py-2 pb-0 lh-condensed-ultra d-block link-gray no-underline f5\" data-ga-click=\"(Logged out) Header, go to GitHub Education\">GitHub Education</a></li>\\n',\n",
       " '                    </ul>\\n',\n",
       " '                  </div>\\n',\n",
       " '                </details>\\n',\n",
       " '              </li>\\n',\n",
       " '\\n',\n",
       " '              <li class=\"border-bottom border-lg-bottom-0 mr-0 mr-lg-3\">\\n',\n",
       " '                <a href=\"/marketplace\" class=\"HeaderMenu-link no-underline py-3 d-block d-lg-inline-block\" data-ga-click=\"(Logged out) Header, go to Marketplace\">Marketplace</a>\\n',\n",
       " '              </li>\\n',\n",
       " '\\n',\n",
       " '              <li class=\"d-block d-lg-flex flex-lg-nowrap flex-lg-items-center border-bottom border-lg-bottom-0 mr-0 mr-lg-3 edge-item-fix position-relative flex-wrap flex-justify-between d-flex flex-items-center \">\\n',\n",
       " '                <details class=\"HeaderMenu-details details-overlay details-reset width-full\">\\n',\n",
       " '                  <summary class=\"HeaderMenu-summary HeaderMenu-link px-0 py-3 border-0 no-wrap d-block d-lg-inline-block\">\\n',\n",
       " '                    Pricing\\n',\n",
       " '                    <svg x=\"0px\" y=\"0px\" viewBox=\"0 0 14 8\" xml:space=\"preserve\" fill=\"none\" class=\"icon-chevon-down-mktg position-absolute position-lg-relative\">\\n',\n",
       " '                       <path d=\"M1,1l6.2,6L13,1\"></path>\\n',\n",
       " '                    </svg>\\n',\n",
       " '                  </summary>\\n',\n",
       " '\\n',\n",
       " '                  <div class=\"dropdown-menu flex-auto rounded-1 bg-white px-0 pt-2 pb-4 mt-0 p-lg-4 position-relative position-lg-absolute left-0 left-lg-n4\">\\n',\n",
       " '                    <a href=\"/pricing\" class=\"pb-2 lh-condensed-ultra d-block link-gray-dark no-underline h5 Bump-link--hover\" data-ga-click=\"(Logged out) Header, go to Pricing\">Plans <span class=\"Bump-link-symbol float-right text-normal text-gray-light\">&rarr;</span></a>\\n',\n",
       " '\\n',\n",
       " '                    <ul class=\"list-style-none mb-3\">\\n',\n",
       " '                      <li class=\"edge-item-fix\"><a href=\"/pricing#feature-comparison\" class=\"py-2 lh-condensed-ultra d-block link-gray no-underline f5\" data-ga-click=\"(Logged out) Header, go to Compare plans\">Compare plans</a></li>\\n',\n",
       " '                      <li class=\"edge-item-fix\"><a href=\"https://enterprise.github.com/contact\" class=\"py-2 lh-condensed-ultra d-block link-gray no-underline f5\" data-ga-click=\"(Logged out) Header, go to Contact Sales\">Contact Sales</a></li>\\n',\n",
       " '                    </ul>\\n',\n",
       " '\\n',\n",
       " '                    <ul class=\"list-style-none mb-0 border-lg-top pt-lg-3\">\\n',\n",
       " '                      <li class=\"edge-item-fix\"><a href=\"/nonprofit\" class=\"py-2 lh-condensed-ultra d-block no-underline link-gray-dark no-underline h5 Bump-link--hover\" data-ga-click=\"(Logged out) Header, go to Nonprofits\">Nonprofit <span class=\"Bump-link-symbol float-right text-normal text-gray-light\">&rarr;</span></a></li>\\n',\n",
       " '                      <li class=\"edge-item-fix\"><a href=\"https://education.github.com\" class=\"py-2 pb-0 lh-condensed-ultra d-block no-underline link-gray-dark no-underline h5 Bump-link--hover\"  data-ga-click=\"(Logged out) Header, go to Education\">Education <span class=\"Bump-link-symbol float-right text-normal text-gray-light\">&rarr;</span></a></li>\\n',\n",
       " '                    </ul>\\n',\n",
       " '                  </div>\\n',\n",
       " '                </details>\\n',\n",
       " '              </li>\\n',\n",
       " '          </ul>\\n',\n",
       " '        </nav>\\n',\n",
       " '\\n',\n",
       " '      <div class=\"d-lg-flex flex-items-center px-3 px-lg-0 text-center text-lg-left\">\\n',\n",
       " '          <div class=\"d-lg-flex mb-3 mb-lg-0\">\\n',\n",
       " '            <div class=\"header-search flex-self-stretch flex-lg-self-auto mr-0 mr-lg-3 mb-3 mb-lg-0 scoped-search site-scoped-search js-site-search position-relative js-jump-to\"\\n',\n",
       " '  role=\"combobox\"\\n',\n",
       " '  aria-owns=\"jump-to-results\"\\n',\n",
       " '  aria-label=\"Search or jump to\"\\n',\n",
       " '  aria-haspopup=\"listbox\"\\n',\n",
       " '  aria-expanded=\"false\"\\n',\n",
       " '>\\n',\n",
       " '  <div class=\"position-relative\">\\n',\n",
       " '    <!-- \\'\"` --><!-- </textarea></xmp> --></option></form><form class=\"js-site-search-form\" role=\"search\" aria-label=\"Site\" data-scope-type=\"Repository\" data-scope-id=\"21800813\" data-scoped-search-url=\"/dwyl/english-words/search\" data-unscoped-search-url=\"/search\" action=\"/dwyl/english-words/search\" accept-charset=\"UTF-8\" method=\"get\">\\n',\n",
       " '      <label class=\"form-control input-sm header-search-wrapper p-0 header-search-wrapper-jump-to position-relative d-flex flex-justify-between flex-items-center js-chromeless-input-container\">\\n',\n",
       " '        <input type=\"text\"\\n',\n",
       " '          class=\"form-control input-sm header-search-input jump-to-field js-jump-to-field js-site-search-focus js-site-search-field is-clearable\"\\n',\n",
       " '          data-hotkey=\"s,/\"\\n',\n",
       " '          name=\"q\"\\n',\n",
       " '          value=\"\"\\n',\n",
       " '          placeholder=\"Search\"\\n',\n",
       " '          data-unscoped-placeholder=\"Search GitHub\"\\n',\n",
       " '          data-scoped-placeholder=\"Search\"\\n',\n",
       " '          autocapitalize=\"off\"\\n',\n",
       " '          aria-autocomplete=\"list\"\\n',\n",
       " '          aria-controls=\"jump-to-results\"\\n',\n",
       " '          aria-label=\"Search\"\\n',\n",
       " '          data-jump-to-suggestions-path=\"/_graphql/GetSuggestedNavigationDestinations\"\\n',\n",
       " '          spellcheck=\"false\"\\n',\n",
       " '          autocomplete=\"off\"\\n',\n",
       " '          >\\n',\n",
       " '          <input type=\"hidden\" data-csrf=\"true\" class=\"js-data-jump-to-suggestions-path-csrf\" value=\"ZN9LfcEFurCayBuU6CmnoQkoTB45SLJ5Tk4flU0JcSndMFdG7O4sBp/KJeTw9XcZ2hOYYt1NlWnEFjwDMY4e0g==\" />\\n',\n",
       " '          <input type=\"hidden\" class=\"js-site-search-type-field\" name=\"type\" >\\n',\n",
       " '            <img src=\"https://github.githubassets.com/images/search-key-slash.svg\" alt=\"\" class=\"mr-2 header-search-key-slash\">\\n',\n",
       " '\\n',\n",
       " '            <div class=\"Box position-absolute overflow-hidden d-none jump-to-suggestions js-jump-to-suggestions-container\">\\n',\n",
       " '              \\n',\n",
       " '<ul class=\"d-none js-jump-to-suggestions-template-container\">\\n',\n",
       " '  \\n',\n",
       " '\\n',\n",
       " '<li class=\"d-flex flex-justify-start flex-items-center p-0 f5 navigation-item js-navigation-item js-jump-to-suggestion\" role=\"option\">\\n',\n",
       " '  <a tabindex=\"-1\" class=\"no-underline d-flex flex-auto flex-items-center jump-to-suggestions-path js-jump-to-suggestion-path js-navigation-open p-2\" href=\"\">\\n',\n",
       " '    <div class=\"jump-to-octicon js-jump-to-octicon flex-shrink-0 mr-2 text-center d-none\">\\n',\n",
       " '      <svg height=\"16\" width=\"16\" class=\"octicon octicon-repo flex-shrink-0 js-jump-to-octicon-repo d-none\" title=\"Repository\" aria-label=\"Repository\" viewBox=\"0 0 12 16\" version=\"1.1\" role=\"img\"><path fill-rule=\"evenodd\" d=\"M4 9H3V8h1v1zm0-3H3v1h1V6zm0-2H3v1h1V4zm0-2H3v1h1V2zm8-1v12c0 .55-.45 1-1 1H6v2l-1.5-1.5L3 16v-2H1c-.55 0-1-.45-1-1V1c0-.55.45-1 1-1h10c.55 0 1 .45 1 1zm-1 10H1v2h2v-1h3v1h5v-2zm0-10H2v9h9V1z\"></path></svg>\\n',\n",
       " '      <svg height=\"16\" width=\"16\" class=\"octicon octicon-project flex-shrink-0 js-jump-to-octicon-project d-none\" title=\"Project\" aria-label=\"Project\" viewBox=\"0 0 15 16\" version=\"1.1\" role=\"img\"><path fill-rule=\"evenodd\" d=\"M10 12h3V2h-3v10zm-4-2h3V2H6v8zm-4 4h3V2H2v12zm-1 1h13V1H1v14zM14 0H1a1 1 0 00-1 1v14a1 1 0 001 1h13a1 1 0 001-1V1a1 1 0 00-1-1z\"></path></svg>\\n',\n",
       " '      <svg height=\"16\" width=\"16\" class=\"octicon octicon-search flex-shrink-0 js-jump-to-octicon-search d-none\" title=\"Search\" aria-label=\"Search\" viewBox=\"0 0 16 16\" version=\"1.1\" role=\"img\"><path fill-rule=\"evenodd\" d=\"M15.7 13.3l-3.81-3.83A5.93 5.93 0 0013 6c0-3.31-2.69-6-6-6S1 2.69 1 6s2.69 6 6 6c1.3 0 2.48-.41 3.47-1.11l3.83 3.81c.19.2.45.3.7.3.25 0 .52-.09.7-.3a.996.996 0 000-1.41v.01zM7 10.7c-2.59 0-4.7-2.11-4.7-4.7 0-2.59 2.11-4.7 4.7-4.7 2.59 0 4.7 2.11 4.7 4.7 0 2.59-2.11 4.7-4.7 4.7z\"></path></svg>\\n',\n",
       " '    </div>\\n',\n",
       " '\\n',\n",
       " '    <img class=\"avatar mr-2 flex-shrink-0 js-jump-to-suggestion-avatar d-none\" alt=\"\" aria-label=\"Team\" src=\"\" width=\"28\" height=\"28\">\\n',\n",
       " '\\n',\n",
       " '    <div class=\"jump-to-suggestion-name js-jump-to-suggestion-name flex-auto overflow-hidden text-left no-wrap css-truncate css-truncate-target\">\\n',\n",
       " '    </div>\\n',\n",
       " '\\n',\n",
       " '    <div class=\"border rounded-1 flex-shrink-0 bg-gray px-1 text-gray-light ml-1 f6 d-none js-jump-to-badge-search\">\\n',\n",
       " '      <span class=\"js-jump-to-badge-search-text-default d-none\" aria-label=\"in this repository\">\\n',\n",
       " '        In this repository\\n',\n",
       " '      </span>\\n',\n",
       " '      <span class=\"js-jump-to-badge-search-text-global d-none\" aria-label=\"in all of GitHub\">\\n',\n",
       " '        All GitHub\\n',\n",
       " '      </span>\\n',\n",
       " '      <span aria-hidden=\"true\" class=\"d-inline-block ml-1 v-align-middle\">â†µ</span>\\n',\n",
       " '    </div>\\n',\n",
       " '\\n',\n",
       " '    <div aria-hidden=\"true\" class=\"border rounded-1 flex-shrink-0 bg-gray px-1 text-gray-light ml-1 f6 d-none d-on-nav-focus js-jump-to-badge-jump\">\\n',\n",
       " '      Jump to\\n',\n",
       " '      <span class=\"d-inline-block ml-1 v-align-middle\">â†µ</span>\\n',\n",
       " '    </div>\\n',\n",
       " '  </a>\\n',\n",
       " '</li>\\n',\n",
       " '\\n',\n",
       " '</ul>\\n',\n",
       " '\\n',\n",
       " '<ul class=\"d-none js-jump-to-no-results-template-container\">\\n',\n",
       " '  <li class=\"d-flex flex-justify-center flex-items-center f5 d-none js-jump-to-suggestion p-2\">\\n',\n",
       " '    <span class=\"text-gray\">No suggested jump to results</span>\\n',\n",
       " '  </li>\\n',\n",
       " '</ul>\\n',\n",
       " '\\n',\n",
       " '<ul id=\"jump-to-results\" role=\"listbox\" class=\"p-0 m-0 js-navigation-container jump-to-suggestions-results-container js-jump-to-suggestions-results-container\">\\n',\n",
       " '  \\n',\n",
       " '\\n',\n",
       " '<li class=\"d-flex flex-justify-start flex-items-center p-0 f5 navigation-item js-navigation-item js-jump-to-scoped-search d-none\" role=\"option\">\\n',\n",
       " '  <a tabindex=\"-1\" class=\"no-underline d-flex flex-auto flex-items-center jump-to-suggestions-path js-jump-to-suggestion-path js-navigation-open p-2\" href=\"\">\\n',\n",
       " '    <div class=\"jump-to-octicon js-jump-to-octicon flex-shrink-0 mr-2 text-center d-none\">\\n',\n",
       " '      <svg height=\"16\" width=\"16\" class=\"octicon octicon-repo flex-shrink-0 js-jump-to-octicon-repo d-none\" title=\"Repository\" aria-label=\"Repository\" viewBox=\"0 0 12 16\" version=\"1.1\" role=\"img\"><path fill-rule=\"evenodd\" d=\"M4 9H3V8h1v1zm0-3H3v1h1V6zm0-2H3v1h1V4zm0-2H3v1h1V2zm8-1v12c0 .55-.45 1-1 1H6v2l-1.5-1.5L3 16v-2H1c-.55 0-1-.45-1-1V1c0-.55.45-1 1-1h10c.55 0 1 .45 1 1zm-1 10H1v2h2v-1h3v1h5v-2zm0-10H2v9h9V1z\"></path></svg>\\n',\n",
       " '      <svg height=\"16\" width=\"16\" class=\"octicon octicon-project flex-shrink-0 js-jump-to-octicon-project d-none\" title=\"Project\" aria-label=\"Project\" viewBox=\"0 0 15 16\" version=\"1.1\" role=\"img\"><path fill-rule=\"evenodd\" d=\"M10 12h3V2h-3v10zm-4-2h3V2H6v8zm-4 4h3V2H2v12zm-1 1h13V1H1v14zM14 0H1a1 1 0 00-1 1v14a1 1 0 001 1h13a1 1 0 001-1V1a1 1 0 00-1-1z\"></path></svg>\\n',\n",
       " '      <svg height=\"16\" width=\"16\" class=\"octicon octicon-search flex-shrink-0 js-jump-to-octicon-search d-none\" title=\"Search\" aria-label=\"Search\" viewBox=\"0 0 16 16\" version=\"1.1\" role=\"img\"><path fill-rule=\"evenodd\" d=\"M15.7 13.3l-3.81-3.83A5.93 5.93 0 0013 6c0-3.31-2.69-6-6-6S1 2.69 1 6s2.69 6 6 6c1.3 0 2.48-.41 3.47-1.11l3.83 3.81c.19.2.45.3.7.3.25 0 .52-.09.7-.3a.996.996 0 000-1.41v.01zM7 10.7c-2.59 0-4.7-2.11-4.7-4.7 0-2.59 2.11-4.7 4.7-4.7 2.59 0 4.7 2.11 4.7 4.7 0 2.59-2.11 4.7-4.7 4.7z\"></path></svg>\\n',\n",
       " '    </div>\\n',\n",
       " '\\n',\n",
       " '    <img class=\"avatar mr-2 flex-shrink-0 js-jump-to-suggestion-avatar d-none\" alt=\"\" aria-label=\"Team\" src=\"\" width=\"28\" height=\"28\">\\n',\n",
       " '\\n',\n",
       " '    <div class=\"jump-to-suggestion-name js-jump-to-suggestion-name flex-auto overflow-hidden text-left no-wrap css-truncate css-truncate-target\">\\n',\n",
       " '    </div>\\n',\n",
       " '\\n',\n",
       " '    <div class=\"border rounded-1 flex-shrink-0 bg-gray px-1 text-gray-light ml-1 f6 d-none js-jump-to-badge-search\">\\n',\n",
       " '      <span class=\"js-jump-to-badge-search-text-default d-none\" aria-label=\"in this repository\">\\n',\n",
       " '        In this repository\\n',\n",
       " '      </span>\\n',\n",
       " '      <span class=\"js-jump-to-badge-search-text-global d-none\" aria-label=\"in all of GitHub\">\\n',\n",
       " '        All GitHub\\n',\n",
       " '      </span>\\n',\n",
       " '      <span aria-hidden=\"true\" class=\"d-inline-block ml-1 v-align-middle\">â†µ</span>\\n',\n",
       " '    </div>\\n',\n",
       " '\\n',\n",
       " '    <div aria-hidden=\"true\" class=\"border rounded-1 flex-shrink-0 bg-gray px-1 text-gray-light ml-1 f6 d-none d-on-nav-focus js-jump-to-badge-jump\">\\n',\n",
       " '      Jump to\\n',\n",
       " '      <span class=\"d-inline-block ml-1 v-align-middle\">â†µ</span>\\n',\n",
       " '    </div>\\n',\n",
       " '  </a>\\n',\n",
       " '</li>\\n',\n",
       " '\\n',\n",
       " '  \\n',\n",
       " '\\n',\n",
       " '<li class=\"d-flex flex-justify-start flex-items-center p-0 f5 navigation-item js-navigation-item js-jump-to-global-search d-none\" role=\"option\">\\n',\n",
       " '  <a tabindex=\"-1\" class=\"no-underline d-flex flex-auto flex-items-center jump-to-suggestions-path js-jump-to-suggestion-path js-navigation-open p-2\" href=\"\">\\n',\n",
       " '    <div class=\"jump-to-octicon js-jump-to-octicon flex-shrink-0 mr-2 text-center d-none\">\\n',\n",
       " '      <svg height=\"16\" width=\"16\" class=\"octicon octicon-repo flex-shrink-0 js-jump-to-octicon-repo d-none\" title=\"Repository\" aria-label=\"Repository\" viewBox=\"0 0 12 16\" version=\"1.1\" role=\"img\"><path fill-rule=\"evenodd\" d=\"M4 9H3V8h1v1zm0-3H3v1h1V6zm0-2H3v1h1V4zm0-2H3v1h1V2zm8-1v12c0 .55-.45 1-1 1H6v2l-1.5-1.5L3 16v-2H1c-.55 0-1-.45-1-1V1c0-.55.45-1 1-1h10c.55 0 1 .45 1 1zm-1 10H1v2h2v-1h3v1h5v-2zm0-10H2v9h9V1z\"></path></svg>\\n',\n",
       " '      <svg height=\"16\" width=\"16\" class=\"octicon octicon-project flex-shrink-0 js-jump-to-octicon-project d-none\" title=\"Project\" aria-label=\"Project\" viewBox=\"0 0 15 16\" version=\"1.1\" role=\"img\"><path fill-rule=\"evenodd\" d=\"M10 12h3V2h-3v10zm-4-2h3V2H6v8zm-4 4h3V2H2v12zm-1 1h13V1H1v14zM14 0H1a1 1 0 00-1 1v14a1 1 0 001 1h13a1 1 0 001-1V1a1 1 0 00-1-1z\"></path></svg>\\n',\n",
       " '      <svg height=\"16\" width=\"16\" class=\"octicon octicon-search flex-shrink-0 js-jump-to-octicon-search d-none\" title=\"Search\" aria-label=\"Search\" viewBox=\"0 0 16 16\" version=\"1.1\" role=\"img\"><path fill-rule=\"evenodd\" d=\"M15.7 13.3l-3.81-3.83A5.93 5.93 0 0013 6c0-3.31-2.69-6-6-6S1 2.69 1 6s2.69 6 6 6c1.3 0 2.48-.41 3.47-1.11l3.83 3.81c.19.2.45.3.7.3.25 0 .52-.09.7-.3a.996.996 0 000-1.41v.01zM7 10.7c-2.59 0-4.7-2.11-4.7-4.7 0-2.59 2.11-4.7 4.7-4.7 2.59 0 4.7 2.11 4.7 4.7 0 2.59-2.11 4.7-4.7 4.7z\"></path></svg>\\n',\n",
       " '    </div>\\n',\n",
       " '\\n',\n",
       " '    <img class=\"avatar mr-2 flex-shrink-0 js-jump-to-suggestion-avatar d-none\" alt=\"\" aria-label=\"Team\" src=\"\" width=\"28\" height=\"28\">\\n',\n",
       " '\\n',\n",
       " '    <div class=\"jump-to-suggestion-name js-jump-to-suggestion-name flex-auto overflow-hidden text-left no-wrap css-truncate css-truncate-target\">\\n',\n",
       " '    </div>\\n',\n",
       " '\\n',\n",
       " '    <div class=\"border rounded-1 flex-shrink-0 bg-gray px-1 text-gray-light ml-1 f6 d-none js-jump-to-badge-search\">\\n',\n",
       " '      <span class=\"js-jump-to-badge-search-text-default d-none\" aria-label=\"in this repository\">\\n',\n",
       " '        In this repository\\n',\n",
       " '      </span>\\n',\n",
       " '      <span class=\"js-jump-to-badge-search-text-global d-none\" aria-label=\"in all of GitHub\">\\n',\n",
       " '        All GitHub\\n',\n",
       " '      </span>\\n',\n",
       " '      <span aria-hidden=\"true\" class=\"d-inline-block ml-1 v-align-middle\">â†µ</span>\\n',\n",
       " '    </div>\\n',\n",
       " '\\n',\n",
       " '    <div aria-hidden=\"true\" class=\"border rounded-1 flex-shrink-0 bg-gray px-1 text-gray-light ml-1 f6 d-none d-on-nav-focus js-jump-to-badge-jump\">\\n',\n",
       " '      Jump to\\n',\n",
       " '      <span class=\"d-inline-block ml-1 v-align-middle\">â†µ</span>\\n',\n",
       " '    </div>\\n',\n",
       " '  </a>\\n',\n",
       " '</li>\\n',\n",
       " '\\n',\n",
       " '\\n',\n",
       " '</ul>\\n',\n",
       " '\\n',\n",
       " '            </div>\\n',\n",
       " '      </label>\\n',\n",
       " '</form>  </div>\\n',\n",
       " '</div>\\n',\n",
       " '\\n',\n",
       " '          </div>\\n',\n",
       " '\\n',\n",
       " '        <a href=\"/login?return_to=%2Fdwyl%2Fenglish-words%2Fblob%2Fmaster%2Fwords_alpha.txt\"\\n',\n",
       " '          class=\"HeaderMenu-link no-underline mr-3\"\\n',\n",
       " '          data-hydro-click=\"{&quot;event_type&quot;:&quot;authentication.click&quot;,&quot;payload&quot;:{&quot;location_in_page&quot;:&quot;site header menu&quot;,&quot;repository_id&quot;:null,&quot;auth_type&quot;:&quot;SIGN_UP&quot;,&quot;originating_url&quot;:&quot;https://github.com/dwyl/english-words/blob/master/words_alpha.txt&quot;,&quot;user_id&quot;:null}}\" data-hydro-click-hmac=\"27da7db26bac000d221e52aec89dc13a023368701f4cc75297b3c3fc975f83ff\"\\n',\n",
       " '          data-ga-click=\"(Logged out) Header, clicked Sign in, text:sign-in\">\\n',\n",
       " '          Sign&nbsp;in\\n',\n",
       " '        </a>\\n',\n",
       " '            <a href=\"/join?ref_cta=Sign+up&amp;ref_loc=header+logged+out&amp;ref_page=%2F%3Cuser-name%3E%2F%3Crepo-name%3E%2Fblob%2Fshow&amp;source=header-repo&amp;source_repo=dwyl%2Fenglish-words\"\\n',\n",
       " '              class=\"HeaderMenu-link d-inline-block no-underline border border-gray-dark rounded-1 px-2 py-1\"\\n',\n",
       " '              data-hydro-click=\"{&quot;event_type&quot;:&quot;authentication.click&quot;,&quot;payload&quot;:{&quot;location_in_page&quot;:&quot;site header menu&quot;,&quot;repository_id&quot;:null,&quot;auth_type&quot;:&quot;SIGN_UP&quot;,&quot;originating_url&quot;:&quot;https://github.com/dwyl/english-words/blob/master/words_alpha.txt&quot;,&quot;user_id&quot;:null}}\" data-hydro-click-hmac=\"27da7db26bac000d221e52aec89dc13a023368701f4cc75297b3c3fc975f83ff\"\\n',\n",
       " '              data-ga-click=\"Sign up, click to sign up for account, ref_page:/&lt;user-name&gt;/&lt;repo-name&gt;/blob/show;ref_cta:Sign up;ref_loc:header logged out\">\\n',\n",
       " '              Sign&nbsp;up\\n',\n",
       " '            </a>\\n',\n",
       " '      </div>\\n',\n",
       " '    </div>\\n',\n",
       " '  </div>\\n',\n",
       " '</header>\\n',\n",
       " '\\n',\n",
       " '    </div>\\n',\n",
       " '\\n',\n",
       " '  <div id=\"start-of-content\" class=\"show-on-focus\"></div>\\n',\n",
       " '\\n',\n",
       " '\\n',\n",
       " '\\n',\n",
       " '\\n',\n",
       " '    <div id=\"js-flash-container\">\\n',\n",
       " '\\n',\n",
       " '\\n',\n",
       " '  <template class=\"js-flash-template\">\\n',\n",
       " '    <div class=\"flash flash-full  js-flash-template-container\">\\n',\n",
       " '  <div class=\"container-lg px-2\" >\\n',\n",
       " '    <button class=\"flash-close js-flash-close\" type=\"button\" aria-label=\"Dismiss this message\">\\n',\n",
       " '      <svg class=\"octicon octicon-x\" viewBox=\"0 0 12 16\" version=\"1.1\" width=\"12\" height=\"16\" aria-hidden=\"true\"><path fill-rule=\"evenodd\" d=\"M7.48 8l3.75 3.75-1.48 1.48L6 9.48l-3.75 3.75-1.48-1.48L4.52 8 .77 4.25l1.48-1.48L6 6.52l3.75-3.75 1.48 1.48L7.48 8z\"></path></svg>\\n',\n",
       " '    </button>\\n',\n",
       " '    \\n',\n",
       " '      <div class=\"js-flash-template-message\"></div>\\n',\n",
       " '\\n',\n",
       " '  </div>\\n',\n",
       " '</div>\\n',\n",
       " '  </template>\\n',\n",
       " '</div>\\n',\n",
       " '\\n',\n",
       " '\\n',\n",
       " '      \\n',\n",
       " '\\n',\n",
       " '  <include-fragment class=\"js-notification-shelf-include-fragment\" data-base-src=\"https://github.com/notifications/beta/shelf\"></include-fragment>\\n',\n",
       " '\\n',\n",
       " '\\n',\n",
       " '\\n',\n",
       " '\\n',\n",
       " '  <div class=\"application-main \" data-commit-hovercards-enabled>\\n',\n",
       " '        <div itemscope itemtype=\"http://schema.org/SoftwareSourceCode\" class=\"\">\\n',\n",
       " '    <main  >\\n',\n",
       " '      \\n',\n",
       " '\\n',\n",
       " '  \\n',\n",
       " '\\n',\n",
       " '\\n',\n",
       " '\\n',\n",
       " '\\n',\n",
       " '  \\n',\n",
       " '\\n',\n",
       " '\\n',\n",
       " '\\n',\n",
       " '\\n',\n",
       " '\\n',\n",
       " '\\n',\n",
       " '\\n',\n",
       " '\\n',\n",
       " '\\n',\n",
       " '  <div class=\"pagehead repohead hx_repohead readability-menu bg-gray-light pb-0 pt-0 pt-lg-3\">\\n',\n",
       " '\\n',\n",
       " '    <div class=\"d-flex container-lg mb-4 p-responsive d-none d-lg-flex\">\\n',\n",
       " '\\n',\n",
       " '      <div class=\"flex-auto min-width-0 width-fit mr-3\">\\n',\n",
       " '        <h1 class=\"public  d-flex flex-wrap flex-items-center break-word float-none \">\\n',\n",
       " '  <span class=\"flex-self-stretch\" style=\"margin-top: -2px;\">\\n',\n",
       " '      <svg class=\"octicon octicon-repo\" viewBox=\"0 0 12 16\" version=\"1.1\" width=\"12\" height=\"16\" aria-hidden=\"true\"><path fill-rule=\"evenodd\" d=\"M4 9H3V8h1v1zm0-3H3v1h1V6zm0-2H3v1h1V4zm0-2H3v1h1V2zm8-1v12c0 .55-.45 1-1 1H6v2l-1.5-1.5L3 16v-2H1c-.55 0-1-.45-1-1V1c0-.55.45-1 1-1h10c.55 0 1 .45 1 1zm-1 10H1v2h2v-1h3v1h5v-2zm0-10H2v9h9V1z\"></path></svg>\\n',\n",
       " '  </span>\\n',\n",
       " '  <span class=\"author ml-2 flex-self-stretch\" itemprop=\"author\">\\n',\n",
       " '    <a class=\"url fn\" rel=\"author\" data-hovercard-type=\"organization\" data-hovercard-url=\"/orgs/dwyl/hovercard\" href=\"/dwyl\">dwyl</a>\\n',\n",
       " '  </span>\\n',\n",
       " '  <span class=\"path-divider flex-self-stretch\">/</span>\\n',\n",
       " '  <strong itemprop=\"name\" class=\"mr-2 flex-self-stretch\">\\n',\n",
       " '    <a data-pjax=\"#js-repo-pjax-container\" href=\"/dwyl/english-words\">english-words</a>\\n',\n",
       " '  </strong>\\n',\n",
       " '  \\n',\n",
       " '</h1>\\n',\n",
       " '\\n',\n",
       " '\\n',\n",
       " '      </div>\\n',\n",
       " '\\n',\n",
       " '      <ul class=\"pagehead-actions flex-shrink-0 \" >\\n',\n",
       " '\\n',\n",
       " '\\n',\n",
       " '\\n',\n",
       " '\\n',\n",
       " '  <li>\\n',\n",
       " '    \\n',\n",
       " '  <a class=\"tooltipped tooltipped-s btn btn-sm btn-with-count\" aria-label=\"You must be signed in to watch a repository\" rel=\"nofollow\" data-hydro-click=\"{&quot;event_type&quot;:&quot;authentication.click&quot;,&quot;payload&quot;:{&quot;location_in_page&quot;:&quot;notification subscription menu watch&quot;,&quot;repository_id&quot;:null,&quot;auth_type&quot;:&quot;LOG_IN&quot;,&quot;originating_url&quot;:&quot;https://github.com/dwyl/english-words/blob/master/words_alpha.txt&quot;,&quot;user_id&quot;:null}}\" data-hydro-click-hmac=\"6a661a9a2cb1863dafa50a2a401efe06eee248d62f213cb5a4df27c6f4e39659\" href=\"/login?return_to=%2Fdwyl%2Fenglish-words\">\\n',\n",
       " '    <svg class=\"octicon octicon-eye\" viewBox=\"0 0 16 16\" version=\"1.1\" width=\"16\" height=\"16\" aria-hidden=\"true\"><path fill-rule=\"evenodd\" d=\"M8.06 2C3 2 0 8 0 8s3 6 8.06 6C13 14 16 8 16 8s-3-6-7.94-6zM8 12c-2.2 0-4-1.78-4-4 0-2.2 1.8-4 4-4 2.22 0 4 1.8 4 4 0 2.22-1.78 4-4 4zm2-4c0 1.11-.89 2-2 2-1.11 0-2-.89-2-2 0-1.11.89-2 2-2 1.11 0 2 .89 2 2z\"></path></svg>\\n',\n",
       " '    Watch\\n',\n",
       " '</a>    <a class=\"social-count\" href=\"/dwyl/english-words/watchers\"\\n',\n",
       " '       aria-label=\"169 users are watching this repository\">\\n',\n",
       " '      169\\n',\n",
       " '    </a>\\n',\n",
       " '\\n',\n",
       " '  </li>\\n',\n",
       " '\\n',\n",
       " '  <li>\\n',\n",
       " '        <a class=\"btn btn-sm btn-with-count  tooltipped tooltipped-s\" aria-label=\"You must be signed in to star a repository\" rel=\"nofollow\" data-hydro-click=\"{&quot;event_type&quot;:&quot;authentication.click&quot;,&quot;payload&quot;:{&quot;location_in_page&quot;:&quot;star button&quot;,&quot;repository_id&quot;:21800813,&quot;auth_type&quot;:&quot;LOG_IN&quot;,&quot;originating_url&quot;:&quot;https://github.com/dwyl/english-words/blob/master/words_alpha.txt&quot;,&quot;user_id&quot;:null}}\" data-hydro-click-hmac=\"24157fafcbc2bf89272b417022238aebd16db1cdfb57423dc25060c6c86a6d13\" href=\"/login?return_to=%2Fdwyl%2Fenglish-words\">\\n',\n",
       " '      <svg height=\"16\" class=\"octicon octicon-star v-align-text-bottom\" vertical_align=\"text_bottom\" viewBox=\"0 0 14 16\" version=\"1.1\" width=\"14\" aria-hidden=\"true\"><path fill-rule=\"evenodd\" d=\"M14 6l-4.9-.64L7 1 4.9 5.36 0 6l3.6 3.26L2.67 14 7 11.67 11.33 14l-.93-4.74L14 6z\"></path></svg>\\n',\n",
       " '\\n',\n",
       " '      Star\\n',\n",
       " '</a>\\n',\n",
       " '    <a class=\"social-count js-social-count\" href=\"/dwyl/english-words/stargazers\"\\n',\n",
       " '      aria-label=\"4155 users starred this repository\">\\n',\n",
       " '      4.2k\\n',\n",
       " '    </a>\\n',\n",
       " '\\n',\n",
       " '  </li>\\n',\n",
       " '\\n',\n",
       " '  <li>\\n',\n",
       " '      <a class=\"btn btn-sm btn-with-count tooltipped tooltipped-s\" aria-label=\"You must be signed in to fork a repository\" rel=\"nofollow\" data-hydro-click=\"{&quot;event_type&quot;:&quot;authentication.click&quot;,&quot;payload&quot;:{&quot;location_in_page&quot;:&quot;repo details fork button&quot;,&quot;repository_id&quot;:21800813,&quot;auth_type&quot;:&quot;LOG_IN&quot;,&quot;originating_url&quot;:&quot;https://github.com/dwyl/english-words/blob/master/words_alpha.txt&quot;,&quot;user_id&quot;:null}}\" data-hydro-click-hmac=\"48fe80b4aba056bd78b001331a141b8a8d1b0d47b1b3c53cda80d4775e634173\" href=\"/login?return_to=%2Fdwyl%2Fenglish-words\">\\n',\n",
       " '        <svg class=\"octicon octicon-repo-forked\" viewBox=\"0 0 10 16\" version=\"1.1\" width=\"10\" height=\"16\" aria-hidden=\"true\"><path fill-rule=\"evenodd\" d=\"M8 1a1.993 1.993 0 00-1 3.72V6L5 8 3 6V4.72A1.993 1.993 0 002 1a1.993 1.993 0 00-1 3.72V6.5l3 3v1.78A1.993 1.993 0 005 15a1.993 1.993 0 001-3.72V9.5l3-3V4.72A1.993 1.993 0 008 1zM2 4.2C1.34 4.2.8 3.65.8 3c0-.65.55-1.2 1.2-1.2.65 0 1.2.55 1.2 1.2 0 .65-.55 1.2-1.2 1.2zm3 10c-.66 0-1.2-.55-1.2-1.2 0-.65.55-1.2 1.2-1.2.65 0 1.2.55 1.2 1.2 0 .65-.55 1.2-1.2 1.2zm3-10c-.66 0-1.2-.55-1.2-1.2 0-.65.55-1.2 1.2-1.2.65 0 1.2.55 1.2 1.2 0 .65-.55 1.2-1.2 1.2z\"></path></svg>\\n',\n",
       " '        Fork\\n',\n",
       " '</a>\\n',\n",
       " '    <a href=\"/dwyl/english-words/network/members\" class=\"social-count\"\\n',\n",
       " '       aria-label=\"922 users forked this repository\">\\n',\n",
       " '      922\\n',\n",
       " '    </a>\\n',\n",
       " '  </li>\\n',\n",
       " '</ul>\\n',\n",
       " '\\n',\n",
       " '    </div>\\n',\n",
       " '      <nav class=\"js-repo-nav js-sidenav-container-pjax clearfix hx_reponav reponav p-responsive d-none d-lg-block container-lg\"\\n',\n",
       " '     itemscope\\n',\n",
       " '     itemtype=\"http://schema.org/BreadcrumbList\"\\n',\n",
       " '    aria-label=\"Repository\"\\n',\n",
       " '     data-pjax=\"#js-repo-pjax-container\">\\n',\n",
       " '  <ul class=\"list-style-none\">\\n',\n",
       " '    <li  itemscope itemtype=\"http://schema.org/ListItem\" itemprop=\"itemListElement\">\\n',\n",
       " '      <a class=\"js-selected-navigation-item selected reponav-item\" itemprop=\"url\" data-hotkey=\"g c\" aria-current=\"page\" data-selected-links=\"repo_source repo_downloads repo_commits repo_releases repo_tags repo_branches repo_packages repo_deployments /dwyl/english-words\" href=\"/dwyl/english-words\">\\n',\n",
       " '        <div class=\"d-inline\"><svg class=\"octicon octicon-code\" viewBox=\"0 0 14 16\" version=\"1.1\" width=\"14\" height=\"16\" aria-hidden=\"true\"><path fill-rule=\"evenodd\" d=\"M9.5 3L8 4.5 11.5 8 8 11.5 9.5 13 14 8 9.5 3zm-5 0L0 8l4.5 5L6 11.5 2.5 8 6 4.5 4.5 3z\"></path></svg></div>\\n',\n",
       " '        <span itemprop=\"name\">Code</span>\\n',\n",
       " '        <meta itemprop=\"position\" content=\"1\">\\n',\n",
       " '</a>    </li>\\n',\n",
       " '\\n',\n",
       " '      <li  itemscope itemtype=\"http://schema.org/ListItem\" itemprop=\"itemListElement\">\\n',\n",
       " '        <a itemprop=\"url\" data-hotkey=\"g i\" class=\"js-selected-navigation-item reponav-item\" data-selected-links=\"repo_issues repo_labels repo_milestones /dwyl/english-words/issues\" href=\"/dwyl/english-words/issues\">\\n',\n",
       " '          <div class=\"d-inline\"><svg class=\"octicon octicon-issue-opened\" viewBox=\"0 0 14 16\" version=\"1.1\" width=\"14\" height=\"16\" aria-hidden=\"true\"><path fill-rule=\"evenodd\" d=\"M7 2.3c3.14 0 5.7 2.56 5.7 5.7s-2.56 5.7-5.7 5.7A5.71 5.71 0 011.3 8c0-3.14 2.56-5.7 5.7-5.7zM7 1C3.14 1 0 4.14 0 8s3.14 7 7 7 7-3.14 7-7-3.14-7-7-7zm1 3H6v5h2V4zm0 6H6v2h2v-2z\"></path></svg></div>\\n',\n",
       " '          <span itemprop=\"name\">Issues</span>\\n',\n",
       " '          <span class=\"Counter\">20</span>\\n',\n",
       " '          <meta itemprop=\"position\" content=\"2\">\\n',\n",
       " '</a>      </li>\\n',\n",
       " '\\n',\n",
       " '    <li  itemscope itemtype=\"http://schema.org/ListItem\" itemprop=\"itemListElement\">\\n',\n",
       " '      <a data-hotkey=\"g p\" data-skip-pjax=\"true\" itemprop=\"url\" class=\"js-selected-navigation-item reponav-item\" data-selected-links=\"repo_pulls checks /dwyl/english-words/pulls\" href=\"/dwyl/english-words/pulls\">\\n',\n",
       " '        <div class=\"d-inline\"><svg class=\"octicon octicon-git-pull-request\" viewBox=\"0 0 12 16\" version=\"1.1\" width=\"12\" height=\"16\" aria-hidden=\"true\"><path fill-rule=\"evenodd\" d=\"M11 11.28V5c-.03-.78-.34-1.47-.94-2.06C9.46 2.35 8.78 2.03 8 2H7V0L4 3l3 3V4h1c.27.02.48.11.69.31.21.2.3.42.31.69v6.28A1.993 1.993 0 0010 15a1.993 1.993 0 001-3.72zm-1 2.92c-.66 0-1.2-.55-1.2-1.2 0-.65.55-1.2 1.2-1.2.65 0 1.2.55 1.2 1.2 0 .65-.55 1.2-1.2 1.2zM4 3c0-1.11-.89-2-2-2a1.993 1.993 0 00-1 3.72v6.56A1.993 1.993 0 002 15a1.993 1.993 0 001-3.72V4.72c.59-.34 1-.98 1-1.72zm-.8 10c0 .66-.55 1.2-1.2 1.2-.65 0-1.2-.55-1.2-1.2 0-.65.55-1.2 1.2-1.2.65 0 1.2.55 1.2 1.2zM2 4.2C1.34 4.2.8 3.65.8 3c0-.65.55-1.2 1.2-1.2.65 0 1.2.55 1.2 1.2 0 .65-.55 1.2-1.2 1.2z\"></path></svg></div>\\n',\n",
       " '        <span itemprop=\"name\">Pull requests</span>\\n',\n",
       " '        <span class=\"Counter\">8</span>\\n',\n",
       " '        <meta itemprop=\"position\" content=\"4\">\\n',\n",
       " '</a>    </li>\\n',\n",
       " '\\n',\n",
       " '\\n',\n",
       " '      <li itemscope itemtype=\"http://schema.org/ListItem\" itemprop=\"itemListElement\" class=\"position-relative float-left \">\\n',\n",
       " '        <a data-hotkey=\"g w\" data-skip-pjax=\"true\" class=\"js-selected-navigation-item reponav-item\" data-selected-links=\"repo_actions /dwyl/english-words/actions\" href=\"/dwyl/english-words/actions\">\\n',\n",
       " '          <div class=\"d-inline\"><svg class=\"octicon octicon-play\" viewBox=\"0 0 14 16\" version=\"1.1\" width=\"14\" height=\"16\" aria-hidden=\"true\"><path fill-rule=\"evenodd\" d=\"M14 8A7 7 0 110 8a7 7 0 0114 0zm-8.223 3.482l4.599-3.066a.5.5 0 000-.832L5.777 4.518A.5.5 0 005 4.934v6.132a.5.5 0 00.777.416z\"></path></svg></div>\\n',\n",
       " '          Actions\\n',\n",
       " '</a>\\n',\n",
       " '      </li>\\n',\n",
       " '\\n',\n",
       " '\\n',\n",
       " '\\n',\n",
       " '      <li >\\n',\n",
       " '        <a data-skip-pjax=\"true\" class=\"js-selected-navigation-item reponav-item\" data-selected-links=\"security overview alerts policy token_scanning code_scanning /dwyl/english-words/security\" href=\"/dwyl/english-words/security\">\\n',\n",
       " '          <div class=\"d-inline\"><svg class=\"octicon octicon-shield\" viewBox=\"0 0 14 16\" version=\"1.1\" width=\"14\" height=\"16\" aria-hidden=\"true\"><path fill-rule=\"evenodd\" d=\"M0 2l7-2 7 2v6.02C14 12.69 8.69 16 7 16c-1.69 0-7-3.31-7-7.98V2zm1 .75L7 1l6 1.75v5.268C13 12.104 8.449 15 7 15c-1.449 0-6-2.896-6-6.982V2.75zm1 .75L7 2v12c-1.207 0-5-2.482-5-5.985V3.5z\"></path></svg></div>\\n',\n",
       " '          Security\\n',\n",
       " '              <span class=\"Counter js-security-tab-count\" data-url=\"/dwyl/english-words/security/overall-count\" hidden></span>\\n',\n",
       " '</a>      </li>\\n',\n",
       " '\\n',\n",
       " '      <li >\\n',\n",
       " '        <a class=\"js-selected-navigation-item reponav-item\" data-selected-links=\"repo_graphs repo_contributors dependency_graph dependabot_updates pulse people /dwyl/english-words/pulse\" href=\"/dwyl/english-words/pulse\">\\n',\n",
       " '          <div class=\"d-inline\"><svg class=\"octicon octicon-graph\" viewBox=\"0 0 16 16\" version=\"1.1\" width=\"16\" height=\"16\" aria-hidden=\"true\"><path fill-rule=\"evenodd\" d=\"M16 14v1H0V0h1v14h15zM5 13H3V8h2v5zm4 0H7V3h2v10zm4 0h-2V6h2v7z\"></path></svg></div>\\n',\n",
       " '          Insights\\n',\n",
       " '</a>      </li>\\n',\n",
       " '\\n',\n",
       " '\\n',\n",
       " '  </ul>\\n',\n",
       " '</nav>\\n',\n",
       " '\\n',\n",
       " '  <div class=\"reponav-wrapper reponav-small d-lg-none\">\\n',\n",
       " '  <nav class=\"reponav js-reponav text-center no-wrap\"\\n',\n",
       " '       itemscope\\n',\n",
       " '       itemtype=\"http://schema.org/BreadcrumbList\">\\n',\n",
       " '\\n',\n",
       " '    <span itemscope itemtype=\"http://schema.org/ListItem\" itemprop=\"itemListElement\">\\n',\n",
       " '      <a class=\"js-selected-navigation-item selected reponav-item\" itemprop=\"url\" aria-current=\"page\" data-selected-links=\"repo_source repo_downloads repo_commits repo_releases repo_tags repo_branches repo_packages repo_deployments /dwyl/english-words\" href=\"/dwyl/english-words\">\\n',\n",
       " '        <span itemprop=\"name\">Code</span>\\n',\n",
       " '        <meta itemprop=\"position\" content=\"1\">\\n',\n",
       " '</a>    </span>\\n',\n",
       " '\\n',\n",
       " '      <span itemscope itemtype=\"http://schema.org/ListItem\" itemprop=\"itemListElement\">\\n',\n",
       " '        <a itemprop=\"url\" class=\"js-selected-navigation-item reponav-item\" data-selected-links=\"repo_issues repo_labels repo_milestones /dwyl/english-words/issues\" href=\"/dwyl/english-words/issues\">\\n',\n",
       " '          <span itemprop=\"name\">Issues</span>\\n',\n",
       " '          <span class=\"Counter\">20</span>\\n',\n",
       " '          <meta itemprop=\"position\" content=\"2\">\\n',\n",
       " '</a>      </span>\\n',\n",
       " '\\n',\n",
       " '    <span itemscope itemtype=\"http://schema.org/ListItem\" itemprop=\"itemListElement\">\\n',\n",
       " '      <a itemprop=\"url\" class=\"js-selected-navigation-item reponav-item\" data-selected-links=\"repo_pulls checks /dwyl/english-words/pulls\" href=\"/dwyl/english-words/pulls\">\\n',\n",
       " '        <span itemprop=\"name\">Pull requests</span>\\n',\n",
       " '        <span class=\"Counter\">8</span>\\n',\n",
       " '        <meta itemprop=\"position\" content=\"4\">\\n',\n",
       " '</a>    </span>\\n',\n",
       " '\\n',\n",
       " '\\n',\n",
       " '\\n',\n",
       " '      <span itemscope itemtype=\"http://schema.org/ListItem\" itemprop=\"itemListElement\">\\n',\n",
       " '        <a itemprop=\"url\" class=\"js-selected-navigation-item reponav-item\" data-selected-links=\"repo_actions /dwyl/english-words/actions\" href=\"/dwyl/english-words/actions\">\\n',\n",
       " '          <span itemprop=\"name\">Actions</span>\\n',\n",
       " '          <meta itemprop=\"position\" content=\"6\">\\n',\n",
       " '</a>      </span>\\n',\n",
       " '\\n',\n",
       " '\\n',\n",
       " '      <a itemprop=\"url\" class=\"js-selected-navigation-item reponav-item\" data-selected-links=\"security overview alerts policy token_scanning code_scanning /dwyl/english-words/security\" href=\"/dwyl/english-words/security\">\\n',\n",
       " '        <span itemprop=\"name\">Security</span>\\n',\n",
       " '            <span class=\"Counter js-security-deferred-tab-count\" hidden></span>\\n',\n",
       " '        <meta itemprop=\"position\" content=\"8\">\\n',\n",
       " '</a>\\n',\n",
       " '      <a class=\"js-selected-navigation-item reponav-item\" data-selected-links=\"pulse /dwyl/english-words/pulse\" href=\"/dwyl/english-words/pulse\">\\n',\n",
       " '        Pulse\\n',\n",
       " '</a>\\n',\n",
       " '\\n',\n",
       " '  </nav>\\n',\n",
       " '</div>\\n',\n",
       " '\\n',\n",
       " '\\n',\n",
       " '  </div>\\n',\n",
       " '\\n',\n",
       " '  \\n',\n",
       " '\\n',\n",
       " '  <include-fragment class=\"js-notification-shelf-include-fragment\" data-base-src=\"https://github.com/notifications/beta/shelf\"></include-fragment>\\n',\n",
       " '\\n',\n",
       " '\\n',\n",
       " '<div class=\"container-lg clearfix new-discussion-timeline  p-responsive\">\\n',\n",
       " '  <div class=\"repository-content \">\\n',\n",
       " '\\n',\n",
       " '    \\n',\n",
       " '    \\n',\n",
       " '\\n',\n",
       " '  \\n',\n",
       " '\\n',\n",
       " '\\n',\n",
       " '    <a class=\"d-none js-permalink-shortcut\" data-hotkey=\"y\" href=\"/dwyl/english-words/blob/ed8dbc5030eb4d0af6746b9301eb644f5e2db2b6/words_alpha.txt\">Permalink</a>\\n',\n",
       " '\\n',\n",
       " '    <!-- blob contrib key: blob_contributors:v22:56efeac8b3c7351ef7625854977b76f5 -->\\n',\n",
       " '      <signup-prompt-controller class=\"signup-prompt-bg rounded-1\" data-prompt=\"signup\" hidden>\\n',\n",
       " '    <div class=\"signup-prompt p-4 text-center mb-4 rounded-1\">\\n',\n",
       " '      <div class=\"position-relative\">\\n',\n",
       " '        <button\\n',\n",
       " '          type=\"button\"\\n',\n",
       " '          class=\"position-absolute top-0 right-0 btn-link link-gray\"\\n',\n",
       " '          data-action=\"click:signup-prompt-controller#dismiss\"\\n',\n",
       " '          data-ga-click=\"(Logged out) Sign up prompt, clicked Dismiss, text:dismiss\"\\n',\n",
       " '        >\\n',\n",
       " '          Dismiss\\n',\n",
       " '        </button>\\n',\n",
       " '        <h3 class=\"pt-2\">Join GitHub today</h3>\\n',\n",
       " '        <p class=\"col-6 mx-auto\">GitHub is home to over 50 million developers working together to host and review code, manage projects, and build software together.</p>\\n',\n",
       " '        <a class=\"btn btn-primary\" data-ga-click=\"(Logged out) Sign up prompt, clicked Sign up, text:sign-up\" data-hydro-click=\"{&quot;event_type&quot;:&quot;authentication.click&quot;,&quot;payload&quot;:{&quot;location_in_page&quot;:&quot;files signup prompt&quot;,&quot;repository_id&quot;:null,&quot;auth_type&quot;:&quot;SIGN_UP&quot;,&quot;originating_url&quot;:&quot;https://github.com/dwyl/english-words/blob/master/words_alpha.txt&quot;,&quot;user_id&quot;:null}}\" data-hydro-click-hmac=\"33a852d81c6fdd8e0fa397f0ae485c8ed4025157b495681113226cfdfabe319c\" href=\"/join?source=prompt-blob-show&amp;source_repo=dwyl%2Fenglish-words\">Sign up</a>\\n',\n",
       " '      </div>\\n',\n",
       " '    </div>\\n',\n",
       " '  </signup-prompt-controller>\\n',\n",
       " '\\n',\n",
       " '\\n',\n",
       " '    <div class=\"d-flex flex-items-start flex-shrink-0 flex-column flex-md-row pb-3\">\\n',\n",
       " '      <span class=\"d-flex flex-justify-between width-full width-md-auto\">\\n',\n",
       " '        \\n',\n",
       " '<details class=\"details-reset details-overlay branch-select-menu \" id=\"branch-select-menu\">\\n',\n",
       " '  <summary class=\"btn css-truncate btn-sm\"\\n',\n",
       " '           data-hotkey=\"w\"\\n',\n",
       " '           title=\"Switch branches or tags\">\\n',\n",
       " '    <i>Branch:</i>\\n',\n",
       " '    <span class=\"css-truncate-target\" data-menu-button>master</span>\\n',\n",
       " '    <span class=\"dropdown-caret\"></span>\\n',\n",
       " '  </summary>\\n',\n",
       " '\\n',\n",
       " '  <details-menu class=\"SelectMenu SelectMenu--hasFilter\" src=\"/dwyl/english-words/refs/master/words_alpha.txt?source_action=show&amp;source_controller=blob\" preload>\\n',\n",
       " '    <div class=\"SelectMenu-modal\">\\n',\n",
       " '      <include-fragment class=\"SelectMenu-loading\" aria-label=\"Menu is loading\">\\n',\n",
       " '        <svg class=\"octicon octicon-octoface anim-pulse\" height=\"32\" viewBox=\"0 0 16 16\" version=\"1.1\" width=\"32\" aria-hidden=\"true\"><path fill-rule=\"evenodd\" d=\"M14.7 5.34c.13-.32.55-1.59-.13-3.31 0 0-1.05-.33-3.44 1.3-1-.28-2.07-.32-3.13-.32s-2.13.04-3.13.32c-2.39-1.64-3.44-1.3-3.44-1.3-.68 1.72-.26 2.99-.13 3.31C.49 6.21 0 7.33 0 8.69 0 13.84 3.33 15 7.98 15S16 13.84 16 8.69c0-1.36-.49-2.48-1.3-3.35zM8 14.02c-3.3 0-5.98-.15-5.98-3.35 0-.76.38-1.48 1.02-2.07 1.07-.98 2.9-.46 4.96-.46 2.07 0 3.88-.52 4.96.46.65.59 1.02 1.3 1.02 2.07 0 3.19-2.68 3.35-5.98 3.35zM5.49 9.01c-.66 0-1.2.8-1.2 1.78s.54 1.79 1.2 1.79c.66 0 1.2-.8 1.2-1.79s-.54-1.78-1.2-1.78zm5.02 0c-.66 0-1.2.79-1.2 1.78s.54 1.79 1.2 1.79c.66 0 1.2-.8 1.2-1.79s-.53-1.78-1.2-1.78z\"></path></svg>\\n',\n",
       " '      </include-fragment>\\n',\n",
       " '    </div>\\n',\n",
       " '  </details-menu>\\n',\n",
       " '</details>\\n',\n",
       " '\\n',\n",
       " '        <div class=\"BtnGroup flex-shrink-0 d-md-none\">\\n',\n",
       " '          <a href=\"/dwyl/english-words/find/master\"\\n',\n",
       " '                class=\"js-pjax-capture-input btn btn-sm BtnGroup-item\"\\n',\n",
       " '                data-pjax\\n',\n",
       " '                data-hotkey=\"t\">\\n',\n",
       " '            Find file\\n',\n",
       " '          </a>\\n',\n",
       " '          <clipboard-copy value=\"words_alpha.txt\" class=\"btn btn-sm BtnGroup-item\">\\n',\n",
       " '            Copy path\\n',\n",
       " '          </clipboard-copy>\\n',\n",
       " '        </div>\\n',\n",
       " '      </span>\\n',\n",
       " '      <h2 id=\"blob-path\" class=\"breadcrumb flex-auto min-width-0 text-normal flex-md-self-center ml-md-2 mr-md-3 my-2 my-md-0\">\\n',\n",
       " '        <span class=\"js-repo-root text-bold\"><span class=\"js-path-segment d-inline-block wb-break-all\"><a data-pjax=\"true\" href=\"/dwyl/english-words\"><span>english-words</span></a></span></span><span class=\"separator\">/</span><strong class=\"final-path\">words_alpha.txt</strong>\\n',\n",
       " '      </h2>\\n',\n",
       " '\\n',\n",
       " '      <div class=\"BtnGroup flex-shrink-0 d-none d-md-inline-block\">\\n',\n",
       " '        <a href=\"/dwyl/english-words/find/master\"\\n',\n",
       " '              class=\"js-pjax-capture-input btn btn-sm BtnGroup-item\"\\n',\n",
       " '              data-pjax\\n',\n",
       " '              data-hotkey=\"t\">\\n',\n",
       " '          Find file\\n',\n",
       " '        </a>\\n',\n",
       " '        <clipboard-copy value=\"words_alpha.txt\" class=\"btn btn-sm BtnGroup-item\">\\n',\n",
       " '          Copy path\\n',\n",
       " '        </clipboard-copy>\\n',\n",
       " '      </div>\\n',\n",
       " '    </div>\\n',\n",
       " '\\n',\n",
       " '\\n',\n",
       " '\\n',\n",
       " '    \\n',\n",
       " '  <div class=\"Box Box--condensed d-flex flex-column flex-shrink-0 mb-3\">\\n',\n",
       " '      <div class=\"Box-body d-flex flex-justify-between bg-blue-light flex-column flex-md-row flex-items-start flex-md-items-center\">\\n',\n",
       " '        <span class=\"pr-md-4 f6\">\\n',\n",
       " '          <a rel=\"contributor\" data-skip-pjax=\"true\" data-hovercard-type=\"user\" data-hovercard-url=\"/users/AdityaGupta150/hovercard\" data-octo-click=\"hovercard-link-click\" data-octo-dimensions=\"link_type:self\" href=\"/AdityaGupta150\"><img class=\"avatar avatar-user\" src=\"https://avatars0.githubusercontent.com/u/37269665?s=40&amp;v=4\" width=\"20\" height=\"20\" alt=\"@AdityaGupta150\" /></a>\\n',\n",
       " '          <a class=\"text-bold link-gray-dark lh-default v-align-middle\" rel=\"contributor\" data-hovercard-type=\"user\" data-hovercard-url=\"/users/AdityaGupta150/hovercard\" data-octo-click=\"hovercard-link-click\" data-octo-dimensions=\"link_type:self\" href=\"/AdityaGupta150\">AdityaGupta150</a>\\n',\n",
       " '            <span class=\"lh-default v-align-middle\">\\n',\n",
       " '              <a data-pjax=\"true\" title=\"Added &#39;cryptocurrency&#39;\" class=\"link-gray\" href=\"/dwyl/english-words/commit/728408da58fc6010ad2e5503442927d87e21065c\">Added \\'cryptocurrency\\'</a>\\n',\n",
       " '            </span>\\n',\n",
       " '        </span>\\n',\n",
       " '        <span class=\"d-inline-block flex-shrink-0 v-align-bottom f6 mt-2 mt-md-0\">\\n',\n",
       " '          <a class=\"pr-2 text-mono link-gray\" href=\"/dwyl/english-words/commit/728408da58fc6010ad2e5503442927d87e21065c\" data-pjax>728408d</a>\\n',\n",
       " '          <relative-time datetime=\"2020-04-10T06:25:55Z\" class=\"no-wrap\">Apr 10, 2020</relative-time>\\n',\n",
       " '        </span>\\n',\n",
       " '      </div>\\n',\n",
       " '\\n',\n",
       " '    <div class=\"Box-body d-flex flex-items-center flex-auto f6 border-bottom-0 flex-wrap\" >\\n',\n",
       " '      <details class=\"details-reset details-overlay details-overlay-dark lh-default text-gray-dark float-left mr-2\" id=\"blob_contributors_box\">\\n',\n",
       " '        <summary class=\"btn-link\">\\n',\n",
       " '          <span><strong>6</strong> contributors</span>\\n',\n",
       " '        </summary>\\n',\n",
       " '        <details-dialog\\n',\n",
       " '          class=\"Box Box--overlay d-flex flex-column anim-fade-in fast\"\\n',\n",
       " '          aria-label=\"Users who have contributed to this file\"\\n',\n",
       " '          src=\"/dwyl/english-words/contributors-list/master/words_alpha.txt\" preload>\\n',\n",
       " '          <div class=\"Box-header\">\\n',\n",
       " '            <button class=\"Box-btn-octicon btn-octicon float-right\" type=\"button\" aria-label=\"Close dialog\" data-close-dialog>\\n',\n",
       " '              <svg class=\"octicon octicon-x\" viewBox=\"0 0 12 16\" version=\"1.1\" width=\"12\" height=\"16\" aria-hidden=\"true\"><path fill-rule=\"evenodd\" d=\"M7.48 8l3.75 3.75-1.48 1.48L6 9.48l-3.75 3.75-1.48-1.48L4.52 8 .77 4.25l1.48-1.48L6 6.52l3.75-3.75 1.48 1.48L7.48 8z\"></path></svg>\\n',\n",
       " '            </button>\\n',\n",
       " '            <h3 class=\"Box-title\">\\n',\n",
       " '              Users who have contributed to this file\\n',\n",
       " '            </h3>\\n',\n",
       " '          </div>\\n',\n",
       " '          <include-fragment class=\"octocat-spinner my-3\" aria-label=\"Loading...\"></include-fragment>\\n',\n",
       " '        </details-dialog>\\n',\n",
       " '      </details>\\n',\n",
       " '        <span class=\"\">\\n',\n",
       " '    <a class=\"avatar-link\" data-hovercard-type=\"user\" data-hovercard-url=\"/users/spookiecookie/hovercard\" data-octo-click=\"hovercard-link-click\" data-octo-dimensions=\"link_type:self\" href=\"/dwyl/english-words/commits/master/words_alpha.txt?author=spookiecookie\">\\n',\n",
       " '      <img class=\"avatar mr-1 avatar-user\" src=\"https://avatars2.githubusercontent.com/u/5195215?s=40&amp;v=4\" width=\"20\" height=\"20\" alt=\"@spookiecookie\" /> \\n',\n",
       " '</a>    <a class=\"avatar-link\" data-hovercard-type=\"user\" data-hovercard-url=\"/users/simonsteele24/hovercard\" data-octo-click=\"hovercard-link-click\" data-octo-dimensions=\"link_type:self\" href=\"/dwyl/english-words/commits/master/words_alpha.txt?author=simonsteele24\">\\n',\n",
       " '      <img class=\"avatar mr-1 avatar-user\" src=\"https://avatars2.githubusercontent.com/u/46796437?s=40&amp;v=4\" width=\"20\" height=\"20\" alt=\"@simonsteele24\" /> \\n',\n",
       " '</a>    <a class=\"avatar-link\" data-hovercard-type=\"user\" data-hovercard-url=\"/users/HarshaLaxman/hovercard\" data-octo-click=\"hovercard-link-click\" data-octo-dimensions=\"link_type:self\" href=\"/dwyl/english-words/commits/master/words_alpha.txt?author=HarshaLaxman\">\\n',\n",
       " '      <img class=\"avatar mr-1 avatar-user\" src=\"https://avatars1.githubusercontent.com/u/19939186?s=40&amp;v=4\" width=\"20\" height=\"20\" alt=\"@HarshaLaxman\" /> \\n',\n",
       " '</a>    <a class=\"avatar-link\" data-hovercard-type=\"user\" data-hovercard-url=\"/users/dimnikolos/hovercard\" data-octo-click=\"hovercard-link-click\" data-octo-dimensions=\"link_type:self\" href=\"/dwyl/english-words/commits/master/words_alpha.txt?author=dimnikolos\">\\n',\n",
       " '      <img class=\"avatar mr-1 avatar-user\" src=\"https://avatars1.githubusercontent.com/u/3272245?s=40&amp;v=4\" width=\"20\" height=\"20\" alt=\"@dimnikolos\" /> \\n',\n",
       " '</a>    <a class=\"avatar-link\" data-hovercard-type=\"user\" data-hovercard-url=\"/users/AdityaGupta150/hovercard\" data-octo-click=\"hovercard-link-click\" data-octo-dimensions=\"link_type:self\" href=\"/dwyl/english-words/commits/master/words_alpha.txt?author=AdityaGupta150\">\\n',\n",
       " '      <img class=\"avatar mr-1 avatar-user\" src=\"https://avatars0.githubusercontent.com/u/37269665?s=40&amp;v=4\" width=\"20\" height=\"20\" alt=\"@AdityaGupta150\" /> \\n',\n",
       " '</a>    <a class=\"avatar-link\" data-hovercard-type=\"user\" data-hovercard-url=\"/users/kevinzwang/hovercard\" data-octo-click=\"hovercard-link-click\" data-octo-dimensions=\"link_type:self\" href=\"/dwyl/english-words/commits/master/words_alpha.txt?author=kevinzwang\">\\n',\n",
       " '      <img class=\"avatar mr-1 avatar-user\" src=\"https://avatars1.githubusercontent.com/u/20215378?s=40&amp;v=4\" width=\"20\" height=\"20\" alt=\"@kevinzwang\" /> \\n',\n",
       " '</a>\\n',\n",
       " '</span>\\n',\n",
       " '\\n',\n",
       " '    </div>\\n',\n",
       " '  </div>\\n',\n",
       " '\\n',\n",
       " '\\n',\n",
       " '\\n',\n",
       " '\\n',\n",
       " '\\n',\n",
       " '\\n',\n",
       " '    <div class=\"Box mt-3 position-relative\\n',\n",
       " '      \">\\n',\n",
       " '      \\n',\n",
       " '<div class=\"Box-header py-2 d-flex flex-column flex-shrink-0 flex-md-row flex-md-items-center\">\\n',\n",
       " '  <div class=\"text-mono f6 flex-auto pr-3 flex-order-2 flex-md-order-1 mt-2 mt-md-0\">\\n',\n",
       " '\\n',\n",
       " '    4.04 MB\\n',\n",
       " '  </div>\\n',\n",
       " '\\n',\n",
       " '  <div class=\"d-flex py-1 py-md-0 flex-auto flex-order-1 flex-md-order-2 flex-sm-grow-0 flex-justify-between\">\\n',\n",
       " '\\n',\n",
       " '    <div class=\"BtnGroup\">\\n',\n",
       " '      <a id=\"raw-url\" class=\"btn btn-sm BtnGroup-item\" href=\"/dwyl/english-words/raw/master/words_alpha.txt\">Download</a>\\n',\n",
       " '      <a rel=\"nofollow\" class=\"btn btn-sm BtnGroup-item\" href=\"/dwyl/english-words/commits/master/words_alpha.txt\">History</a>\\n',\n",
       " '    </div>\\n',\n",
       " '\\n',\n",
       " '\\n',\n",
       " '    <div>\\n',\n",
       " '          <a class=\"btn-octicon tooltipped tooltipped-nw js-remove-unless-platform\"\\n',\n",
       " '             data-platforms=\"windows,mac\"\\n',\n",
       " '             href=\"https://desktop.github.com\"\\n',\n",
       " '             aria-label=\"Open this file in GitHub Desktop\"\\n',\n",
       " '             data-ga-click=\"Repository, open with desktop\">\\n',\n",
       " '              <svg class=\"octicon octicon-device-desktop\" viewBox=\"0 0 16 16\" version=\"1.1\" width=\"16\" height=\"16\" aria-hidden=\"true\"><path fill-rule=\"evenodd\" d=\"M15 2H1c-.55 0-1 .45-1 1v9c0 .55.45 1 1 1h5.34c-.25.61-.86 1.39-2.34 2h8c-1.48-.61-2.09-1.39-2.34-2H15c.55 0 1-.45 1-1V3c0-.55-.45-1-1-1zm0 9H1V3h14v8z\"></path></svg>\\n',\n",
       " '          </a>\\n',\n",
       " '\\n',\n",
       " '          <!-- \\'\"` --><!-- </textarea></xmp> --></option></form><form class=\"inline-form\" action=\"/dwyl/english-words/delete/master/words_alpha.txt\" accept-charset=\"UTF-8\" method=\"post\"><input type=\"hidden\" data-csrf=\"true\" name=\"authenticity_token\" value=\"LeOBpmqee0ap0esAF3gh0lIXcuAdvgGe8xvbY43Bf7Ea4SOOlxGE07FIlDPdfy/udYBUXk3jKd5t1xo2jqCSIg==\" />\\n',\n",
       " '            <button class=\"btn-octicon btn-octicon-danger tooltipped tooltipped-nw\" type=\"submit\"\\n',\n",
       " '              aria-label=\"You must be signed in to make or propose changes\" data-disable-with>\\n',\n",
       " '              <svg class=\"octicon octicon-trashcan\" viewBox=\"0 0 12 16\" version=\"1.1\" width=\"12\" height=\"16\" aria-hidden=\"true\"><path fill-rule=\"evenodd\" d=\"M11 2H9c0-.55-.45-1-1-1H5c-.55 0-1 .45-1 1H2c-.55 0-1 .45-1 1v1c0 .55.45 1 1 1v9c0 .55.45 1 1 1h7c.55 0 1-.45 1-1V5c.55 0 1-.45 1-1V3c0-.55-.45-1-1-1zm-1 12H3V5h1v8h1V5h1v8h1V5h1v8h1V5h1v9zm1-10H2V3h9v1z\"></path></svg>\\n',\n",
       " '            </button>\\n',\n",
       " '</form>    </div>\\n',\n",
       " '  </div>\\n',\n",
       " '</div>\\n',\n",
       " '\\n',\n",
       " '\\n',\n",
       " '\\n',\n",
       " '      \\n',\n",
       " '\\n',\n",
       " '  <div itemprop=\"text\" class=\"Box-body p-0 blob-wrapper data type-text \">\\n',\n",
       " '      <div class=\"text-center p-3\">\\n',\n",
       " '          <a href=\"/dwyl/english-words/blob/master/words_alpha.txt?raw=true\">View raw</a>\\n',\n",
       " '            <p>(Sorry about that, but we canâ€™t show files that are this big right now.)</p>\\n',\n",
       " '      </div>\\n',\n",
       " '  </div>\\n',\n",
       " '\\n',\n",
       " '    </div>\\n',\n",
       " '\\n',\n",
       " '  \\n',\n",
       " '\\n',\n",
       " '  <details class=\"details-reset details-overlay details-overlay-dark\">\\n',\n",
       " '    <summary data-hotkey=\"l\" aria-label=\"Jump to line\"></summary>\\n',\n",
       " '    <details-dialog class=\"Box Box--overlay d-flex flex-column anim-fade-in fast linejump\" aria-label=\"Jump to line\">\\n',\n",
       " '      <!-- \\'\"` --><!-- </textarea></xmp> --></option></form><form class=\"js-jump-to-line-form Box-body d-flex\" action=\"\" accept-charset=\"UTF-8\" method=\"get\">\\n',\n",
       " '        <input class=\"form-control flex-auto mr-3 linejump-input js-jump-to-line-field\" type=\"text\" placeholder=\"Jump to line&hellip;\" aria-label=\"Jump to line\" autofocus>\\n',\n",
       " '        <button type=\"submit\" class=\"btn\" data-close-dialog>Go</button>\\n',\n",
       " '</form>    </details-dialog>\\n',\n",
       " '  </details>\\n',\n",
       " '\\n',\n",
       " '\\n',\n",
       " '\\n',\n",
       " '  </div>\\n',\n",
       " '</div>\\n',\n",
       " '\\n',\n",
       " '    </main>\\n',\n",
       " '  </div>\\n',\n",
       " '  \\n',\n",
       " '\\n',\n",
       " '  </div>\\n',\n",
       " '\\n',\n",
       " '        \\n',\n",
       " '<div class=\"footer container-lg width-full p-responsive\" role=\"contentinfo\">\\n',\n",
       " '  <div class=\"position-relative d-flex flex-row-reverse flex-lg-row flex-wrap flex-lg-nowrap flex-justify-center flex-lg-justify-between pt-6 pb-2 mt-6 f6 text-gray border-top border-gray-light \">\\n',\n",
       " '    <ul class=\"list-style-none d-flex flex-wrap col-12 col-lg-5 flex-justify-center flex-lg-justify-between mb-2 mb-lg-0\">\\n',\n",
       " '      <li class=\"mr-3 mr-lg-0\">&copy; 2020 GitHub, Inc.</li>\\n',\n",
       " '        <li class=\"mr-3 mr-lg-0\"><a data-ga-click=\"Footer, go to terms, text:terms\" href=\"https://github.com/site/terms\">Terms</a></li>\\n',\n",
       " '        <li class=\"mr-3 mr-lg-0\"><a data-ga-click=\"Footer, go to privacy, text:privacy\" href=\"https://github.com/site/privacy\">Privacy</a></li>\\n',\n",
       " '        <li class=\"mr-3 mr-lg-0\"><a data-ga-click=\"Footer, go to security, text:security\" href=\"https://github.com/security\">Security</a></li>\\n',\n",
       " '        <li class=\"mr-3 mr-lg-0\"><a href=\"https://githubstatus.com/\" data-ga-click=\"Footer, go to status, text:status\">Status</a></li>\\n',\n",
       " '        <li><a data-ga-click=\"Footer, go to help, text:help\" href=\"https://help.github.com\">Help</a></li>\\n',\n",
       " '\\n',\n",
       " '    </ul>\\n',\n",
       " '\\n',\n",
       " '    <a aria-label=\"Homepage\" title=\"GitHub\" class=\"footer-octicon d-none d-lg-block mx-lg-4\" href=\"https://github.com\">\\n',\n",
       " '      <svg height=\"24\" class=\"octicon octicon-mark-github\" viewBox=\"0 0 16 16\" version=\"1.1\" width=\"24\" aria-hidden=\"true\"><path fill-rule=\"evenodd\" d=\"M8 0C3.58 0 0 3.58 0 8c0 3.54 2.29 6.53 5.47 7.59.4.07.55-.17.55-.38 0-.19-.01-.82-.01-1.49-2.01.37-2.53-.49-2.69-.94-.09-.23-.48-.94-.82-1.13-.28-.15-.68-.52-.01-.53.63-.01 1.08.58 1.23.82.72 1.21 1.87.87 2.33.66.07-.52.28-.87.51-1.07-1.78-.2-3.64-.89-3.64-3.95 0-.87.31-1.59.82-2.15-.08-.2-.36-1.02.08-2.12 0 0 .67-.21 2.2.82.64-.18 1.32-.27 2-.27.68 0 1.36.09 2 .27 1.53-1.04 2.2-.82 2.2-.82.44 1.1.16 1.92.08 2.12.51.56.82 1.27.82 2.15 0 3.07-1.87 3.75-3.65 3.95.29.25.54.73.54 1.48 0 1.07-.01 1.93-.01 2.2 0 .21.15.46.55.38A8.013 8.013 0 0016 8c0-4.42-3.58-8-8-8z\"></path></svg>\\n',\n",
       " '</a>\\n',\n",
       " '   <ul class=\"list-style-none d-flex flex-wrap col-12 col-lg-5 flex-justify-center flex-lg-justify-between mb-2 mb-lg-0\">\\n',\n",
       " '        <li class=\"mr-3 mr-lg-0\"><a data-ga-click=\"Footer, go to contact, text:contact\" href=\"https://github.com/contact\">Contact GitHub</a></li>\\n',\n",
       " '        <li class=\"mr-3 mr-lg-0\"><a href=\"https://github.com/pricing\" data-ga-click=\"Footer, go to Pricing, text:Pricing\">Pricing</a></li>\\n',\n",
       " '      <li class=\"mr-3 mr-lg-0\"><a href=\"https://developer.github.com\" data-ga-click=\"Footer, go to api, text:api\">API</a></li>\\n',\n",
       " '      <li class=\"mr-3 mr-lg-0\"><a href=\"https://training.github.com\" data-ga-click=\"Footer, go to training, text:training\">Training</a></li>\\n',\n",
       " '        <li class=\"mr-3 mr-lg-0\"><a href=\"https://github.blog\" data-ga-click=\"Footer, go to blog, text:blog\">Blog</a></li>\\n',\n",
       " '        <li><a data-ga-click=\"Footer, go to about, text:about\" href=\"https://github.com/about\">About</a></li>\\n',\n",
       " '    </ul>\\n',\n",
       " '  </div>\\n',\n",
       " '  <div class=\"d-flex flex-justify-center pb-6\">\\n',\n",
       " '    <span class=\"f6 text-gray-light\"></span>\\n',\n",
       " '  </div>\\n',\n",
       " '</div>\\n',\n",
       " '\\n',\n",
       " '\\n',\n",
       " '\\n',\n",
       " '  <div id=\"ajax-error-message\" class=\"ajax-error-message flash flash-error\">\\n',\n",
       " '    <svg class=\"octicon octicon-alert\" viewBox=\"0 0 16 16\" version=\"1.1\" width=\"16\" height=\"16\" aria-hidden=\"true\"><path fill-rule=\"evenodd\" d=\"M8.893 1.5c-.183-.31-.52-.5-.887-.5s-.703.19-.886.5L.138 13.499a.98.98 0 000 1.001c.193.31.53.501.886.501h13.964c.367 0 .704-.19.877-.5a1.03 1.03 0 00.01-1.002L8.893 1.5zm.133 11.497H6.987v-2.003h2.039v2.003zm0-3.004H6.987V5.987h2.039v4.006z\"></path></svg>\\n',\n",
       " '    <button type=\"button\" class=\"flash-close js-ajax-error-dismiss\" aria-label=\"Dismiss error\">\\n',\n",
       " '      <svg class=\"octicon octicon-x\" viewBox=\"0 0 12 16\" version=\"1.1\" width=\"12\" height=\"16\" aria-hidden=\"true\"><path fill-rule=\"evenodd\" d=\"M7.48 8l3.75 3.75-1.48 1.48L6 9.48l-3.75 3.75-1.48-1.48L4.52 8 .77 4.25l1.48-1.48L6 6.52l3.75-3.75 1.48 1.48L7.48 8z\"></path></svg>\\n',\n",
       " '    </button>\\n',\n",
       " '    You canâ€™t perform that action at this time.\\n',\n",
       " '  </div>\\n',\n",
       " '\\n',\n",
       " '\\n',\n",
       " '    <script crossorigin=\"anonymous\" async=\"async\" integrity=\"sha512-WcQmT2vhcClFVOaaAJV/M+HqsJ2Gq/myvl6F3gCVBxykazXTs+i5fvxncSXwyG1CSfcrqmLFw/R/bmFYzprX2A==\" type=\"application/javascript\" id=\"js-conditional-compat\" data-src=\"https://github.githubassets.com/assets/compat-bootstrap-59c4264f.js\"></script>\\n',\n",
       " '    <script crossorigin=\"anonymous\" integrity=\"sha512-Y86V8OBlvF6I/7e56GKOOt80Yg1RTGA09uqFFX18aiBtevLbKGxB7sVpCn79fukppFIBqyBTB/s6l0Bhn0kidQ==\" type=\"application/javascript\" src=\"https://github.githubassets.com/assets/environment-bootstrap-63ce95f0.js\"></script>\\n',\n",
       " '    <script crossorigin=\"anonymous\" async=\"async\" integrity=\"sha512-ASMgX6+DJ9LVZX/3Fj0RzibSpfigU83ubvsxxwriojWmuBM3faUp1108gypkhXpqLHEBQhIhjlzDOejzOFd0gA==\" type=\"application/javascript\" src=\"https://github.githubassets.com/assets/vendor-0123205f.js\"></script>\\n',\n",
       " '    <script crossorigin=\"anonymous\" async=\"async\" integrity=\"sha512-g5rd9slMYd7DlFK+kbcZhe8PwyBzE9AHjRuj6+13DTM7pWyOtOakATbNShOf3WzeHUmmOXMrFI5ZL2m4A04Wpg==\" type=\"application/javascript\" src=\"https://github.githubassets.com/assets/frameworks-839addf6.js\"></script>\\n',\n",
       " '    \\n',\n",
       " '    <script crossorigin=\"anonymous\" async=\"async\" integrity=\"sha512-cvJ0qCClUg0SC1cNAzOTbHgVfDN2HZOZXeBo5GsGVAzUhS9WuSo1y2Dugn/5C2zcNntLhqH3y3SH47y1LaXASw==\" type=\"application/javascript\" src=\"https://github.githubassets.com/assets/github-bootstrap-72f274a8.js\"></script>\\n',\n",
       " '    \\n',\n",
       " '        <script crossorigin=\"anonymous\" async=\"async\" integrity=\"sha512-urN6bhHnHu4C12A+cTH3dOp+CwLaycy2HUXr95hvu5pbYRdF8z6iR+UQcTZutQ6mZG3Njluw2MTZVCNmwcqh8g==\" type=\"application/javascript\" data-module-id=\"./randomColor.js\" data-src=\"https://github.githubassets.com/assets/randomColor-bab37a6e.js\"></script>\\n',\n",
       " '        <script crossorigin=\"anonymous\" async=\"async\" integrity=\"sha512-3Vk1NFIOm+TBUMM6pTA6DCUwwLLnc/QIT8jpENm71InvSU8O4p2plDagpst1tH1l+9jOBnneaXZnAskA9a2b3w==\" type=\"application/javascript\" data-module-id=\"./gist-vendor.js\" data-src=\"https://github.githubassets.com/assets/gist-vendor-dd593534.js\"></script>\\n',\n",
       " '        <script crossorigin=\"anonymous\" async=\"async\" integrity=\"sha512-4GcSWGoe36+BoWho4gtJcByZe8j43w+lt2/PDe3rmBxRVSgD29YipDwuIywe8fvOd2b2CszBqaPGxSznUtE3Xg==\" type=\"application/javascript\" data-module-id=\"./drag-drop.js\" data-src=\"https://github.githubassets.com/assets/drag-drop-e0671258.js\"></script>\\n',\n",
       " '    \\n',\n",
       " '    \\n',\n",
       " '  <div class=\"js-stale-session-flash flash flash-warn flash-banner\" hidden\\n',\n",
       " '    >\\n',\n",
       " '    <svg class=\"octicon octicon-alert\" viewBox=\"0 0 16 16\" version=\"1.1\" width=\"16\" height=\"16\" aria-hidden=\"true\"><path fill-rule=\"evenodd\" d=\"M8.893 1.5c-.183-.31-.52-.5-.887-.5s-.703.19-.886.5L.138 13.499a.98.98 0 000 1.001c.193.31.53.501.886.501h13.964c.367 0 .704-.19.877-.5a1.03 1.03 0 00.01-1.002L8.893 1.5zm.133 11.497H6.987v-2.003h2.039v2.003zm0-3.004H6.987V5.987h2.039v4.006z\"></path></svg>\\n',\n",
       " '    <span class=\"js-stale-session-flash-signed-in\" hidden>You signed in with another tab or window. <a href=\"\">Reload</a> to refresh your session.</span>\\n',\n",
       " '    <span class=\"js-stale-session-flash-signed-out\" hidden>You signed out in another tab or window. <a href=\"\">Reload</a> to refresh your session.</span>\\n',\n",
       " '  </div>\\n',\n",
       " '  <template id=\"site-details-dialog\">\\n',\n",
       " '  <details class=\"details-reset details-overlay details-overlay-dark lh-default text-gray-dark hx_rsm\" open>\\n',\n",
       " '    <summary role=\"button\" aria-label=\"Close dialog\"></summary>\\n',\n",
       " '    <details-dialog class=\"Box Box--overlay d-flex flex-column anim-fade-in fast hx_rsm-dialog hx_rsm-modal\">\\n',\n",
       " '      <button class=\"Box-btn-octicon m-0 btn-octicon position-absolute right-0 top-0\" type=\"button\" aria-label=\"Close dialog\" data-close-dialog>\\n',\n",
       " '        <svg class=\"octicon octicon-x\" viewBox=\"0 0 12 16\" version=\"1.1\" width=\"12\" height=\"16\" aria-hidden=\"true\"><path fill-rule=\"evenodd\" d=\"M7.48 8l3.75 3.75-1.48 1.48L6 9.48l-3.75 3.75-1.48-1.48L4.52 8 .77 4.25l1.48-1.48L6 6.52l3.75-3.75 1.48 1.48L7.48 8z\"></path></svg>\\n',\n",
       " '      </button>\\n',\n",
       " '      <div class=\"octocat-spinner my-6 js-details-dialog-spinner\"></div>\\n',\n",
       " '    </details-dialog>\\n',\n",
       " '  </details>\\n',\n",
       " '</template>\\n',\n",
       " '\\n',\n",
       " '  <div class=\"Popover js-hovercard-content position-absolute\" style=\"display: none; outline: none;\" tabindex=\"0\">\\n',\n",
       " '  <div class=\"Popover-message Popover-message--bottom-left Popover-message--large Box box-shadow-large\" style=\"width:360px;\">\\n',\n",
       " '  </div>\\n',\n",
       " '</div>\\n',\n",
       " '\\n',\n",
       " '\\n',\n",
       " '  </body>\\n',\n",
       " '</html>\\n',\n",
       " '\\n']"
      ]
     },
     "execution_count": 98,
     "metadata": {},
     "output_type": "execute_result"
    }
   ],
   "source": [
    "wordlist[:]"
   ]
  }
 ],
 "metadata": {
  "kernelspec": {
   "display_name": "Python 3",
   "language": "python",
   "name": "python3"
  },
  "language_info": {
   "codemirror_mode": {
    "name": "ipython",
    "version": 3
   },
   "file_extension": ".py",
   "mimetype": "text/x-python",
   "name": "python",
   "nbconvert_exporter": "python",
   "pygments_lexer": "ipython3",
   "version": "3.7.7"
  }
 },
 "nbformat": 4,
 "nbformat_minor": 4
}
